{
 "cells": [
  {
   "cell_type": "code",
   "execution_count": 6,
   "id": "23a580ba-5016-4499-aad7-693da5fa0d9b",
   "metadata": {},
   "outputs": [],
   "source": [
    "from typing import Callable\n",
    "import numpy as np\n",
    "import pandas as pd\n",
    "from sklearn.tree import DecisionTreeClassifier\n",
    "\n",
    "\n",
    "def prior(df, household_idx=1):\n",
    "    if household_idx in [1, 3]:\n",
    "        df[\"preds\"] = df.apply(lambda row: 0 if (row.Time >= 18) & (row.Time <= 40)  else 1)\n",
    "    elif household_idx in [2]:\n",
    "        df[\"preds\"] = df.apply(lambda row: 0 if (row.Time >= 24) & (row.Time <= 28) else 1)\n",
    "\n",
    "def Multiview_Iteration(df:pd.DataFrame, prior: Callable, max_iter:int=100):\n",
    "    # line1\n",
    "    df = prior(df)\n",
    "    \n",
    "    stop_condition = False\n",
    "    t = 1\n",
    "    eta_1 = 0.5\n",
    "    \n",
    "    while (not stop_condition)&(t < max_iter):\n",
    "        # line2-4\n",
    "        model_energy = DecisionTreeClassifier()\n",
    "        model_energy.fit(df.Energy, df.preds)\n",
    "        pred_y_enegy = model_energy(df.Energy)\n",
    "        \n",
    "        # line5"
   ]
  },
  {
   "cell_type": "code",
   "execution_count": null,
   "id": "4a231108-a8f7-4dca-956b-eb8c32cbce2d",
   "metadata": {},
   "outputs": [],
   "source": []
  }
 ],
 "metadata": {
  "kernelspec": {
   "display_name": "Python 3 (ipykernel)",
   "language": "python",
   "name": "python3"
  },
  "language_info": {
   "codemirror_mode": {
    "name": "ipython",
    "version": 3
   },
   "file_extension": ".py",
   "mimetype": "text/x-python",
   "name": "python",
   "nbconvert_exporter": "python",
   "pygments_lexer": "ipython3",
   "version": "3.8.8"
  }
 },
 "nbformat": 4,
 "nbformat_minor": 5
}
