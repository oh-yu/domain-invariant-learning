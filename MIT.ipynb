{
 "cells": [
  {
   "cell_type": "code",
   "execution_count": 300,
   "id": "23a580ba-5016-4499-aad7-693da5fa0d9b",
   "metadata": {},
   "outputs": [],
   "source": [
    "from typing import Callable\n",
    "import numpy as np\n",
    "import pandas as pd\n",
    "from sklearn.tree import DecisionTreeClassifier\n",
    "\n",
    "class MIT:\n",
    "    def __init__(self):\n",
    "        pass\n",
    "\n",
    "    def multiview_iteration(self, df_t:pd.DataFrame, max_iter:int=100, household_idx:int=1):\n",
    "        assert df.columns.tolist() == [\"Energy\", \"Time\", \"Occupancy\"]\n",
    "\n",
    "        # line1\n",
    "        df_t = self._prior(df_t, household_idx)\n",
    "        df_t[\"preds_t\"] = df_t[\"preds_time\"]\n",
    "\n",
    "        stop_condition = False\n",
    "        t = 1\n",
    "        eta_t = 0.1\n",
    "        print(\"line1 completed\")\n",
    "        remain_sample_dfs = pd.DataFrame()\n",
    "        while (not stop_condition)&(t < max_iter):\n",
    "\n",
    "            # line2-5\n",
    "            model_energy = DecisionTreeClassifier(max_depth=3)\n",
    "            model_energy.fit(df_t.Energy.values.reshape(-1, 1), df_t.preds_t.values.reshape(-1, 1))\n",
    "            df_t[\"preds_energy\"] = model_energy.predict(df_t.Energy.values.reshape(-1, 1))\n",
    "            print(\"line2-5 completed\")\n",
    "\n",
    "            # line6\n",
    "            df_t[\"preds_majority_vote\"] = df_t.preds_energy | df_t.preds_t\n",
    "            print(\"line6 completed\")\n",
    "\n",
    "            # line 7\n",
    "            print(\"line7 completed\")\n",
    "\n",
    "            # line 8\n",
    "            df_tplus1 = df_t[df_t.preds_t == df_t.preds_majority_vote]\n",
    "            synmetric_diff_sample_df, remain_sample_df = self._synmetric_diff_sample(df_t)\n",
    "            remain_sample_dfs = pd.concat([remain_sample_dfs, remain_sample_df], axis=0)\n",
    "            df_tplus1 = pd.concat([df_tplus1, synmetric_diff_sample_df], axis=0)\n",
    "            print(\"line8 completed\")\n",
    "\n",
    "            # line 9\n",
    "            eta_tplus1 = self._est_eta(df_tplus1)\n",
    "            stop_condition = self._check_if_stop(df_t, df_tplus1, eta_tplus1, eta_t)\n",
    "            \n",
    "            df_tplus1[\"preds_t\"] = df_tplus1[\"preds_majority_vote\"]\n",
    "            df_t = df_tplus1\n",
    "            eta_t = eta_tplus1\n",
    "            t += 1\n",
    "            print(\"line9 completed\")\n",
    "        print(\"algo completed\")\n",
    "        return df_t, remain_sample_dfs\n",
    "\n",
    "    def _prior(self, df, household_idx=1):\n",
    "        if household_idx in [2]:\n",
    "            preds_time = []\n",
    "            for _, row in df.iterrows():\n",
    "                if (row.Time >= 18) & (row.Time <= 40):\n",
    "                    preds_time.append(0)\n",
    "                else:\n",
    "                    preds_time.append(1)\n",
    "            df[\"preds_time\"] = preds_time\n",
    "        elif household_idx in [1, 3]:\n",
    "            preds_time = []\n",
    "            for _, row in df.iterrows():\n",
    "                if (row[\"Time\"] >= 24) & (row[\"Time\"] <= 28):\n",
    "                    preds_time.append(0)\n",
    "                else:\n",
    "                    preds_time.append(1)\n",
    "            df[\"preds_time\"] = preds_time\n",
    "        return df\n",
    "    def _synmetric_diff_sample(self, df_old, alpha_0=0.9, alpha_1=0.9):\n",
    "        synmetric_diff = pd.DataFrame()\n",
    "        synmetric_diff = df_old[df_old.preds_t != df_old.preds_majority_vote]\n",
    "        df_len = synmetric_diff.shape[0]\n",
    "        print(df_len)\n",
    "        \n",
    "        synmetric_diff_sammple_0 = synmetric_diff[synmetric_diff.preds_majority_vote == False]\n",
    "        synmetric_diff_sammple_1 = synmetric_diff[synmetric_diff.preds_majority_vote == True]\n",
    "        \n",
    "        sample_0_thr = int(synmetric_diff_sammple_0.shape[0]*alpha_0)\n",
    "        sample_1_thr = int(synmetric_diff_sammple_1.shape[0]*alpha_1)\n",
    "        remain_sample = pd.concat([synmetric_diff_sammple_0[sample_0_thr:], synmetric_diff_sammple_1[sample_1_thr:]], axis=0)\n",
    "        synmetric_diff_sammple_0 = synmetric_diff_sammple_0[:sample_0_thr]\n",
    "        synmetric_diff_sammple_1 = synmetric_diff_sammple_1[:sample_1_thr]\n",
    "        return pd.concat([synmetric_diff_sammple_0, synmetric_diff_sammple_1], axis=0), remain_sample\n",
    "\n",
    "    def _est_eta(self, df):\n",
    "        num = sum((df.preds_t==1)&(df.preds_majority_vote==0)) + sum((df.preds_t==0)&(df.preds_majority_vote==1))\n",
    "        det = df.shape[0]\n",
    "        return num/det\n",
    "    \n",
    "    def _check_if_stop(self, df_t, df_tplus1, eta_tplus1, eta_t):\n",
    "        return df_tplus1.shape[0]*(1-2*eta_tplus1)**2 > df_t.shape[0]*(1-2*eta_t)**2"
   ]
  },
  {
   "cell_type": "code",
   "execution_count": 301,
   "id": "a018fc76-827d-4339-a423-81399b2bc30e",
   "metadata": {},
   "outputs": [],
   "source": [
    "import matplotlib.pyplot as plt\n",
    "import pandas as pd\n",
    "import numpy as np"
   ]
  },
  {
   "cell_type": "code",
   "execution_count": 302,
   "id": "f0d02ee4-cf4f-4a42-8a80-73ee98f81454",
   "metadata": {},
   "outputs": [],
   "source": [
    "target_idx = 3\n",
    "summer_idx = 0"
   ]
  },
  {
   "cell_type": "code",
   "execution_count": 303,
   "id": "0d3646bc-acf9-44f6-82e6-b7668a411713",
   "metadata": {},
   "outputs": [],
   "source": [
    "target_X = pd.read_csv(f\"./deep_occupancy_detection/data/{target_idx}_X_train.csv\")\n",
    "target_y_task = pd.read_csv(f\"./deep_occupancy_detection/data/{target_idx}_Y_train.csv\")[target_X.Season==summer_idx]\n",
    "target_X = target_X[target_X.Season==summer_idx]"
   ]
  },
  {
   "cell_type": "code",
   "execution_count": 304,
   "id": "3ca27003-d004-4062-87ab-e8681ecb4a36",
   "metadata": {},
   "outputs": [],
   "source": [
    "mit = MIT()"
   ]
  },
  {
   "cell_type": "code",
   "execution_count": 305,
   "id": "9bc37016-0300-479e-bce9-4dbe7cac38ed",
   "metadata": {},
   "outputs": [
    {
     "data": {
      "text/html": [
       "<div>\n",
       "<style scoped>\n",
       "    .dataframe tbody tr th:only-of-type {\n",
       "        vertical-align: middle;\n",
       "    }\n",
       "\n",
       "    .dataframe tbody tr th {\n",
       "        vertical-align: top;\n",
       "    }\n",
       "\n",
       "    .dataframe thead th {\n",
       "        text-align: right;\n",
       "    }\n",
       "</style>\n",
       "<table border=\"1\" class=\"dataframe\">\n",
       "  <thead>\n",
       "    <tr style=\"text-align: right;\">\n",
       "      <th></th>\n",
       "      <th>Energy</th>\n",
       "      <th>Season</th>\n",
       "      <th>Time</th>\n",
       "    </tr>\n",
       "  </thead>\n",
       "  <tbody>\n",
       "    <tr>\n",
       "      <th>1504</th>\n",
       "      <td>67363.495</td>\n",
       "      <td>0</td>\n",
       "      <td>12</td>\n",
       "    </tr>\n",
       "    <tr>\n",
       "      <th>1505</th>\n",
       "      <td>237118.680</td>\n",
       "      <td>0</td>\n",
       "      <td>13</td>\n",
       "    </tr>\n",
       "    <tr>\n",
       "      <th>1506</th>\n",
       "      <td>78601.300</td>\n",
       "      <td>0</td>\n",
       "      <td>14</td>\n",
       "    </tr>\n",
       "    <tr>\n",
       "      <th>1507</th>\n",
       "      <td>274467.298</td>\n",
       "      <td>0</td>\n",
       "      <td>15</td>\n",
       "    </tr>\n",
       "    <tr>\n",
       "      <th>1508</th>\n",
       "      <td>492557.058</td>\n",
       "      <td>0</td>\n",
       "      <td>16</td>\n",
       "    </tr>\n",
       "    <tr>\n",
       "      <th>...</th>\n",
       "      <td>...</td>\n",
       "      <td>...</td>\n",
       "      <td>...</td>\n",
       "    </tr>\n",
       "    <tr>\n",
       "      <th>2075</th>\n",
       "      <td>504342.309</td>\n",
       "      <td>0</td>\n",
       "      <td>39</td>\n",
       "    </tr>\n",
       "    <tr>\n",
       "      <th>2076</th>\n",
       "      <td>596620.374</td>\n",
       "      <td>0</td>\n",
       "      <td>40</td>\n",
       "    </tr>\n",
       "    <tr>\n",
       "      <th>2077</th>\n",
       "      <td>478971.234</td>\n",
       "      <td>0</td>\n",
       "      <td>41</td>\n",
       "    </tr>\n",
       "    <tr>\n",
       "      <th>2078</th>\n",
       "      <td>589670.944</td>\n",
       "      <td>0</td>\n",
       "      <td>42</td>\n",
       "    </tr>\n",
       "    <tr>\n",
       "      <th>2079</th>\n",
       "      <td>84713.475</td>\n",
       "      <td>0</td>\n",
       "      <td>43</td>\n",
       "    </tr>\n",
       "  </tbody>\n",
       "</table>\n",
       "<p>576 rows × 3 columns</p>\n",
       "</div>"
      ],
      "text/plain": [
       "          Energy  Season  Time\n",
       "1504   67363.495       0    12\n",
       "1505  237118.680       0    13\n",
       "1506   78601.300       0    14\n",
       "1507  274467.298       0    15\n",
       "1508  492557.058       0    16\n",
       "...          ...     ...   ...\n",
       "2075  504342.309       0    39\n",
       "2076  596620.374       0    40\n",
       "2077  478971.234       0    41\n",
       "2078  589670.944       0    42\n",
       "2079   84713.475       0    43\n",
       "\n",
       "[576 rows x 3 columns]"
      ]
     },
     "execution_count": 305,
     "metadata": {},
     "output_type": "execute_result"
    }
   ],
   "source": [
    "target_X"
   ]
  },
  {
   "cell_type": "code",
   "execution_count": 306,
   "id": "055c68ed-2eca-480a-a622-05db08686efb",
   "metadata": {},
   "outputs": [
    {
     "data": {
      "text/html": [
       "<div>\n",
       "<style scoped>\n",
       "    .dataframe tbody tr th:only-of-type {\n",
       "        vertical-align: middle;\n",
       "    }\n",
       "\n",
       "    .dataframe tbody tr th {\n",
       "        vertical-align: top;\n",
       "    }\n",
       "\n",
       "    .dataframe thead th {\n",
       "        text-align: right;\n",
       "    }\n",
       "</style>\n",
       "<table border=\"1\" class=\"dataframe\">\n",
       "  <thead>\n",
       "    <tr style=\"text-align: right;\">\n",
       "      <th></th>\n",
       "      <th>Occupancy</th>\n",
       "    </tr>\n",
       "  </thead>\n",
       "  <tbody>\n",
       "    <tr>\n",
       "      <th>1504</th>\n",
       "      <td>1</td>\n",
       "    </tr>\n",
       "    <tr>\n",
       "      <th>1505</th>\n",
       "      <td>1</td>\n",
       "    </tr>\n",
       "    <tr>\n",
       "      <th>1506</th>\n",
       "      <td>1</td>\n",
       "    </tr>\n",
       "    <tr>\n",
       "      <th>1507</th>\n",
       "      <td>1</td>\n",
       "    </tr>\n",
       "    <tr>\n",
       "      <th>1508</th>\n",
       "      <td>1</td>\n",
       "    </tr>\n",
       "    <tr>\n",
       "      <th>...</th>\n",
       "      <td>...</td>\n",
       "    </tr>\n",
       "    <tr>\n",
       "      <th>2075</th>\n",
       "      <td>1</td>\n",
       "    </tr>\n",
       "    <tr>\n",
       "      <th>2076</th>\n",
       "      <td>1</td>\n",
       "    </tr>\n",
       "    <tr>\n",
       "      <th>2077</th>\n",
       "      <td>1</td>\n",
       "    </tr>\n",
       "    <tr>\n",
       "      <th>2078</th>\n",
       "      <td>1</td>\n",
       "    </tr>\n",
       "    <tr>\n",
       "      <th>2079</th>\n",
       "      <td>1</td>\n",
       "    </tr>\n",
       "  </tbody>\n",
       "</table>\n",
       "<p>576 rows × 1 columns</p>\n",
       "</div>"
      ],
      "text/plain": [
       "      Occupancy\n",
       "1504          1\n",
       "1505          1\n",
       "1506          1\n",
       "1507          1\n",
       "1508          1\n",
       "...         ...\n",
       "2075          1\n",
       "2076          1\n",
       "2077          1\n",
       "2078          1\n",
       "2079          1\n",
       "\n",
       "[576 rows x 1 columns]"
      ]
     },
     "execution_count": 306,
     "metadata": {},
     "output_type": "execute_result"
    }
   ],
   "source": [
    "target_y_task"
   ]
  },
  {
   "cell_type": "code",
   "execution_count": 307,
   "id": "ae4bc468-37ef-4d23-a891-e69f98cdc1de",
   "metadata": {},
   "outputs": [
    {
     "name": "stdout",
     "output_type": "stream",
     "text": [
      "line1 completed\n",
      "line2-5 completed\n",
      "line6 completed\n",
      "line7 completed\n",
      "88\n",
      "line8 completed\n",
      "line9 completed\n",
      "line2-5 completed\n",
      "line6 completed\n",
      "line7 completed\n",
      "0\n",
      "line8 completed\n",
      "line9 completed\n",
      "algo completed\n"
     ]
    }
   ],
   "source": [
    "df = pd.concat([target_X, target_y_task], axis=1).drop(columns=\"Season\")\n",
    "df, remain_sample_dfs = mit.multiview_iteration(df, max_iter=100, household_idx=target_idx)"
   ]
  },
  {
   "cell_type": "code",
   "execution_count": 308,
   "id": "0d880f8a",
   "metadata": {},
   "outputs": [
    {
     "data": {
      "text/plain": [
       "576"
      ]
     },
     "execution_count": 308,
     "metadata": {},
     "output_type": "execute_result"
    }
   ],
   "source": [
    "df.shape[0]+remain_sample_dfs.shape[0]"
   ]
  },
  {
   "cell_type": "code",
   "execution_count": 309,
   "id": "f286e339-2d9f-4f28-adfe-461cac718a69",
   "metadata": {},
   "outputs": [
    {
     "data": {
      "text/plain": [
       "[<matplotlib.lines.Line2D at 0x7ff665f2a6a0>]"
      ]
     },
     "execution_count": 309,
     "metadata": {},
     "output_type": "execute_result"
    },
    {
     "data": {
      "image/png": "[encoded data removed]",
      "text/plain": [
       "<Figure size 1500x500 with 1 Axes>"
      ]
     },
     "metadata": {},
     "output_type": "display_data"
    }
   ],
   "source": [
    "plt.figure(figsize=(15, 5))\n",
    "plt.plot(df[\"Occupancy\"].values)\n",
    "plt.plot(df[\"preds_t\"].values)"
   ]
  },
  {
   "cell_type": "code",
   "execution_count": 310,
   "id": "e0d1b760-b7ca-4d4e-a543-232168cb5d6f",
   "metadata": {},
   "outputs": [
    {
     "data": {
      "text/plain": [
       "0.6807760141093474"
      ]
     },
     "execution_count": 310,
     "metadata": {},
     "output_type": "execute_result"
    }
   ],
   "source": [
    "sum(df[\"Occupancy\"] == df[\"preds_t\"])/df.shape[0]"
   ]
  }
 ],
 "metadata": {
  "kernelspec": {
   "display_name": "Python 3 (ipykernel)",
   "language": "python",
   "name": "python3"
  },
  "language_info": {
   "codemirror_mode": {
    "name": "ipython",
    "version": 3
   },
   "file_extension": ".py",
   "mimetype": "text/x-python",
   "name": "python",
   "nbconvert_exporter": "python",
   "pygments_lexer": "ipython3",
   "version": "3.8.8"
  }
 },
 "nbformat": 4,
 "nbformat_minor": 5
}
