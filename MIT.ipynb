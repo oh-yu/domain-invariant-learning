{
 "cells": [
  {
   "cell_type": "code",
   "execution_count": 20,
   "id": "23a580ba-5016-4499-aad7-693da5fa0d9b",
   "metadata": {},
   "outputs": [],
   "source": [
    "from typing import Callable\n",
    "import numpy as np\n",
    "import pandas as pd\n",
    "from sklearn.tree import DecisionTreeClassifier\n",
    "\n",
    "\n",
    "def _prior(df, household_idx=1):\n",
    "    if household_idx in [1, 3]:\n",
    "        df[\"preds_time\"] = df.apply(lambda row: 0 if (row.Time >= 18) & (row.Time <= 40)  else 1)\n",
    "    elif household_idx in [2]:\n",
    "        df[\"preds_time\"] = df.apply(lambda row: 0 if (row.Time >= 24) & (row.Time <= 28) else 1)\n",
    "\n",
    "def multiview_iteration(df_t:pd.DataFrame, prior: Callable, max_iter:int=100):\n",
    "    # line1\n",
    "    df_t = _prior(df_t)\n",
    "    df_t[\"preds_t\"] = df_t[\"preds_time\"]\n",
    "    \n",
    "    stop_condition = False\n",
    "    t = 1\n",
    "    eta_1 = 0.5\n",
    "    \n",
    "    while (not stop_condition)&(t < max_iter):\n",
    "        df_new = pd.DataFrame()\n",
    "        \n",
    "        # line2-5\n",
    "        model_energy = DecisionTreeClassifier()\n",
    "        model_energy.fit(df_t.Energy, df_t.preds)\n",
    "        df_t[\"preds_energy\"] = model_energy(df_t.Energy)\n",
    "        \n",
    "        # line6\n",
    "        df_t[\"preds_majority_vote\"] = df_t.preds_energy & df_t.preds_time\n",
    "        \n",
    "        # line 7\n",
    "        df_new[\"preds_new\"] = df_t[df_t.preds_t != df_t.preds_majority_vote]\n",
    "        \n",
    "        # line 8\n",
    "        df_tplus1 = df_t[df_t.preds_t == df_new.preds_new]\n",
    "        synmetric_diff = _synmetric_diff_sample(df_t, df_new)\n",
    "        # TODO: Implement\n",
    "        df_tplus1 = pd.concat([df_tplus1, synmetric_diff], axis=0)\n",
    "        # TODO: Implement\n",
    "        \n",
    "def _synmetric_diff_sample():\n",
    "    pass\n",
    "# TODO: Implement"
   ]
  }
 ],
 "metadata": {
  "kernelspec": {
   "display_name": "Python 3 (ipykernel)",
   "language": "python",
   "name": "python3"
  },
  "language_info": {
   "codemirror_mode": {
    "name": "ipython",
    "version": 3
   },
   "file_extension": ".py",
   "mimetype": "text/x-python",
   "name": "python",
   "nbconvert_exporter": "python",
   "pygments_lexer": "ipython3",
   "version": "3.8.8"
  }
 },
 "nbformat": 4,
 "nbformat_minor": 5
}
