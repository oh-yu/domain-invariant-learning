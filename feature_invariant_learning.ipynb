{
 "cells": [
  {
   "cell_type": "markdown",
   "id": "d2b67bcd-5b7a-4730-8567-fa85b45d3eb3",
   "metadata": {},
   "source": [
    "# Import Modules"
   ]
  },
  {
   "cell_type": "code",
   "execution_count": 2,
   "id": "63f2b61b-b0de-4497-8469-e084b81d4621",
   "metadata": {},
   "outputs": [],
   "source": [
    "import utils"
   ]
  },
  {
   "cell_type": "markdown",
   "id": "ff2d7f7d-a0b4-4044-b6e4-936b398c1bfc",
   "metadata": {},
   "source": [
    "# Prepare Data"
   ]
  },
  {
   "cell_type": "code",
   "execution_count": 5,
   "id": "03c6b5bf-09f4-44fb-bbbc-9108418e0e56",
   "metadata": {},
   "outputs": [],
   "source": [
    "# Source X: shape of (N_source, D)\n",
    "# Source y_domain: (N_source, )\n",
    "# Source y_task: (N_source, )\n",
    "\n",
    "# Target X: (N_target, D)\n",
    "# Target y_domain: (N_target, )\n",
    "\n",
    "source_X, target_X, source_y_task, target_y_task, _, _, _ = utils.get_source_target()"
   ]
  },
  {
   "cell_type": "markdown",
   "id": "61ad5c83-498c-4252-baba-e8c08372f64c",
   "metadata": {},
   "source": [
    "# Instantiate Feature Extractor, Domain Classifier, Task Classifier"
   ]
  },
  {
   "cell_type": "code",
   "execution_count": null,
   "id": "4fc267d5-c0d9-4801-8254-41e9f3724e9a",
   "metadata": {},
   "outputs": [],
   "source": []
  },
  {
   "cell_type": "markdown",
   "id": "482826e7-85ae-45f9-b3e3-3d28ac581741",
   "metadata": {},
   "source": [
    "# Feature Invariant Learning"
   ]
  },
  {
   "cell_type": "code",
   "execution_count": null,
   "id": "7ea70251-181e-4378-87e3-5240bb692680",
   "metadata": {},
   "outputs": [],
   "source": [
    "# Parameters: source_loader, target_loader, num_epochs\n",
    "\n",
    "for _ in range(num_epochs):\n",
    "    for source_X, source_Y, target_X, target_y_domain in zip(source_loader, target_loader):\n",
    "        # 0. Data\n",
    "        source_y_task = source_Y[:, 0]\n",
    "        source_y_domain = source_Y[:, 1]\n",
    "        # TODO: check out this works\n",
    "\n",
    "        \n",
    "        # 1. Forward\n",
    "        # 1.1 Feature Extractor\n",
    "\n",
    "        # 1.2. Domain Classifier\n",
    "\n",
    "        # 1.3. Task Classifier\n",
    "\n",
    "        # 1.4. Sum Up Losses\n",
    "\n",
    "        # 2. Backward\n",
    "        \n",
    "\n",
    "        # 3. Update Params\n",
    "    \n",
    "    # 4. Evaluation"
   ]
  }
 ],
 "metadata": {
  "kernelspec": {
   "display_name": "Python 3 (ipykernel)",
   "language": "python",
   "name": "python3"
  },
  "language_info": {
   "codemirror_mode": {
    "name": "ipython",
    "version": 3
   },
   "file_extension": ".py",
   "mimetype": "text/x-python",
   "name": "python",
   "nbconvert_exporter": "python",
   "pygments_lexer": "ipython3",
   "version": "3.8.8"
  }
 },
 "nbformat": 4,
 "nbformat_minor": 5
}
