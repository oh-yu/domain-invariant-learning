{
 "cells": [
  {
   "cell_type": "markdown",
   "id": "d2b67bcd-5b7a-4730-8567-fa85b45d3eb3",
   "metadata": {},
   "source": [
    "# Import Modules"
   ]
  },
  {
   "cell_type": "code",
   "execution_count": 1,
   "id": "63f2b61b-b0de-4497-8469-e084b81d4621",
   "metadata": {},
   "outputs": [],
   "source": [
    "import matplotlib.pyplot as plt\n",
    "import numpy as np\n",
    "import torch\n",
    "from torch import nn\n",
    "from torch import optim\n",
    "import torch.nn.functional as F\n",
    "from torch.utils.data import TensorDataset, DataLoader\n",
    "\n",
    "import utils"
   ]
  },
  {
   "cell_type": "code",
   "execution_count": 2,
   "id": "f981ab7b-288d-4260-8a5b-5f0a60b8db7c",
   "metadata": {},
   "outputs": [],
   "source": [
    "device = torch.device(\"cuda\" if torch.cuda.is_available() else \"cpu\")"
   ]
  },
  {
   "cell_type": "markdown",
   "id": "ff2d7f7d-a0b4-4044-b6e4-936b398c1bfc",
   "metadata": {},
   "source": [
    "# Prepare Data"
   ]
  },
  {
   "cell_type": "code",
   "execution_count": 3,
   "id": "03c6b5bf-09f4-44fb-bbbc-9108418e0e56",
   "metadata": {},
   "outputs": [
    {
     "name": "stdout",
     "output_type": "stream",
     "text": [
      "N_source: 100\n",
      "D: 2\n",
      "\n",
      "source_X: (100, 2)\n",
      "source_y_domain: (100, 1)\n",
      "source_y_task: (100, 1)\n",
      "source_Y: (100, 2)\n",
      "\n",
      "N_target: 100\n",
      "target_X: (100, 2)\n",
      "target_y_domain: (100,)\n",
      "target_y_task: (100,)\n"
     ]
    }
   ],
   "source": [
    "# source_X: shape of (N_source, D)\n",
    "# source_y_domain: (N_source, 1)\n",
    "# source_y_task: (N_source, 1)\n",
    "# source_Y: (N_source, 2)\n",
    "\n",
    "# target_X: (N_target, D)\n",
    "# target_y_domain: (N_target, )\n",
    "# target_y_task: (N_target, )\n",
    "\n",
    "source_X, target_X, source_y_task, target_y_task, x_grid, x1_grid, x2_grid = utils.get_source_target()\n",
    "\n",
    "source_y_domain = np.zeros_like(source_y_task).reshape(-1, 1)\n",
    "source_y_task = source_y_task.reshape(-1, 1)\n",
    "\n",
    "source_Y = np.concatenate([source_y_task, source_y_domain], axis=1)\n",
    "target_y_domain = np.ones_like(target_y_task)\n",
    "\n",
    "print(f\"N_source: {source_X.shape[0]}\")\n",
    "print(f\"D: {source_X.shape[1]}\\n\")\n",
    "\n",
    "print(f\"source_X: {source_X.shape}\")\n",
    "print(f\"source_y_domain: {source_y_domain.shape}\")\n",
    "print(f\"source_y_task: {source_y_task.shape}\")\n",
    "print(f\"source_Y: {source_Y.shape}\\n\")\n",
    "\n",
    "print(f\"N_target: {target_X.shape[0]}\")\n",
    "print(f\"target_X: {target_X.shape}\")\n",
    "print(f\"target_y_domain: {target_y_domain.shape}\")\n",
    "print(f\"target_y_task: {target_y_task.shape}\")"
   ]
  },
  {
   "cell_type": "code",
   "execution_count": 4,
   "id": "f15e4fad-6f17-4427-aee0-c9d8d155916f",
   "metadata": {},
   "outputs": [],
   "source": [
    "source_X = torch.tensor(source_X, dtype=torch.float32)\n",
    "source_Y = torch.tensor(source_Y, dtype=torch.float32)\n",
    "target_X = torch.tensor(target_X, dtype=torch.float32)\n",
    "target_y_domain = torch.tensor(target_y_domain, dtype=torch.float32)\n",
    "target_y_task = torch.tensor(target_y_task, dtype=torch.float32)\n",
    "\n",
    "source_X = source_X.to(device)\n",
    "source_Y = source_Y.to(device)\n",
    "target_X = target_X.to(device)\n",
    "target_y_domain = target_y_domain.to(device)\n",
    "target_y_task = target_y_task.to(device)\n",
    "\n",
    "source_ds = TensorDataset(source_X, source_Y)\n",
    "target_ds = TensorDataset(target_X, target_y_domain)\n",
    "\n",
    "source_loader = DataLoader(source_ds, batch_size=34, shuffle=True)\n",
    "target_loader = DataLoader(target_ds, batch_size=34, shuffle=True)"
   ]
  },
  {
   "cell_type": "code",
   "execution_count": 5,
   "id": "c22ff5b4-574e-4ae8-a898-10ad3107b8a2",
   "metadata": {},
   "outputs": [],
   "source": [
    "source_X_eval, source_y_task_eval, target_X_eval = source_X.clone(), source_y_task.copy(), target_X.clone()\n",
    "# TODO: Refactoring(with respect to updated target_X, source_X, source_y_task)"
   ]
  },
  {
   "cell_type": "markdown",
   "id": "61ad5c83-498c-4252-baba-e8c08372f64c",
   "metadata": {},
   "source": [
    "# Instantiate Feature Extractor, Domain Classifier, Task Classifier"
   ]
  },
  {
   "cell_type": "code",
   "execution_count": 6,
   "id": "a00bb469-3245-4383-89b1-133f07a0e49a",
   "metadata": {},
   "outputs": [],
   "source": [
    "class Encoder(nn.Module):\n",
    "    def __init__(self, input_size, output_size):\n",
    "        super().__init__()\n",
    "        self.fc1 = nn.Linear(input_size, output_size)\n",
    "\n",
    "    def forward(self, x):\n",
    "        return F.relu(self.fc1(x))"
   ]
  },
  {
   "cell_type": "code",
   "execution_count": 7,
   "id": "4fc267d5-c0d9-4801-8254-41e9f3724e9a",
   "metadata": {},
   "outputs": [],
   "source": [
    "class Decoder(nn.Module):\n",
    "    def __init__(self, input_size, output_size):\n",
    "        super().__init__()\n",
    "        self.fc1 = nn.Linear(input_size, 10)\n",
    "        self.fc2 = nn.Linear(10, 10)\n",
    "        self.fc3 = nn.Linear(10, output_size)\n",
    "\n",
    "    def forward(self, x):\n",
    "        x = F.relu(self.fc1(x))\n",
    "        x = F.relu(self.fc2(x))\n",
    "        x = self.fc3(x)\n",
    "        return x"
   ]
  },
  {
   "cell_type": "code",
   "execution_count": 8,
   "id": "af3b1b39-35c0-482d-b6ac-c5b980a902f0",
   "metadata": {},
   "outputs": [],
   "source": [
    "hidden_size = 10\n",
    "num_domains = 1\n",
    "num_classes = 1\n",
    "dropout_ratio = 0.5\n",
    "\n",
    "feature_extractor = Encoder(input_size=source_X.shape[1], output_size=hidden_size).to(device)\n",
    "domain_classifier = Decoder(input_size=hidden_size, output_size=num_domains).to(device)\n",
    "task_classifier = Decoder(input_size=hidden_size, output_size=num_classes).to(device)"
   ]
  },
  {
   "cell_type": "code",
   "execution_count": 9,
   "id": "5ebe3ac7-f08d-4a3d-b431-eeae50aa958f",
   "metadata": {},
   "outputs": [],
   "source": [
    "learning_rate = 0.001\n",
    "\n",
    "criterion = nn.BCELoss()\n",
    "feature_optimizer = optim.Adam(feature_extractor.parameters(), lr=learning_rate)\n",
    "domain_optimizer = optim.Adam(domain_classifier.parameters(), lr=learning_rate)\n",
    "task_optimizer = optim.Adam(task_classifier.parameters(), lr=learning_rate)"
   ]
  },
  {
   "cell_type": "markdown",
   "id": "482826e7-85ae-45f9-b3e3-3d28ac581741",
   "metadata": {},
   "source": [
    "# Domain Invariant Learning"
   ]
  },
  {
   "cell_type": "code",
   "execution_count": 10,
   "id": "6b67084b-ac33-4b5e-aebe-ab0c89f97716",
   "metadata": {},
   "outputs": [],
   "source": [
    "class ReverseGradient(torch.autograd.Function):\n",
    "    @staticmethod\n",
    "    def forward(ctx, input):\n",
    "        return input\n",
    "    @staticmethod\n",
    "    def backward(ctx, grad_output):\n",
    "        return grad_output * -1\n",
    "\n",
    "reverse_grad = ReverseGradient.apply\n",
    "# TODO: Understand torch.autograd.Function.apply"
   ]
  },
  {
   "cell_type": "code",
   "execution_count": 11,
   "id": "7ea70251-181e-4378-87e3-5240bb692680",
   "metadata": {},
   "outputs": [],
   "source": [
    "num_epochs = 1000\n",
    "# Parameters: source_loader, target_loader, num_epochs\n",
    "\n",
    "for _ in range(num_epochs):\n",
    "    for (source_X, source_Y), (target_X, target_y_domain) in zip(source_loader, target_loader):\n",
    "        # 0. Data\n",
    "        source_X = source_X.to(device)\n",
    "        source_y_task = source_Y[:, 0].to(device)\n",
    "        source_y_domain = source_Y[:, 1].to(device)\n",
    "        target_X = target_X.to(device)\n",
    "        target_y_domain = target_y_domain.to(device)\n",
    "\n",
    "        # 1. Forward\n",
    "        # 1.1 Feature Extractor\n",
    "        source_X, target_X = feature_extractor(source_X), feature_extractor(target_X)\n",
    "\n",
    "        # 1.2. Task Classifier\n",
    "        pred_y_task = task_classifier(source_X)\n",
    "        pred_y_task = torch.sigmoid(pred_y_task).reshape(-1)\n",
    "        loss_task = criterion(pred_y_task, source_y_task)\n",
    "\n",
    "        # 1.3. Domain Classifier\n",
    "        source_X, target_X = reverse_grad(source_X), reverse_grad(target_X)\n",
    "        pred_source_y_domain, pred_target_y_domain = domain_classifier(source_X), domain_classifier(target_X)\n",
    "        pred_source_y_domain, pred_target_y_domain = torch.sigmoid(pred_source_y_domain).reshape(-1), torch.sigmoid(pred_target_y_domain).reshape(-1)\n",
    "\n",
    "        loss_domain = criterion(pred_source_y_domain, source_y_domain)\n",
    "        loss_domain += criterion(pred_target_y_domain, target_y_domain)\n",
    "\n",
    "        # 2. Backward, Update Params\n",
    "        domain_optimizer.zero_grad()\n",
    "        task_optimizer.zero_grad()\n",
    "        feature_optimizer.zero_grad()\n",
    "\n",
    "        loss_domain.backward(retain_graph = True)\n",
    "        loss_task.backward() \n",
    "        \n",
    "        domain_optimizer.step()\n",
    "        task_optimizer.step()\n",
    "        feature_optimizer.step()\n",
    "    # 4. Evaluation"
   ]
  },
  {
   "cell_type": "markdown",
   "id": "be64948f-8e19-40bb-9d31-3a52378a4275",
   "metadata": {},
   "source": [
    "# Domain Adaptation Accuracy"
   ]
  },
  {
   "cell_type": "code",
   "execution_count": 12,
   "id": "0ab621c4-134d-4eea-805b-70238de17f9a",
   "metadata": {},
   "outputs": [
    {
     "name": "stdout",
     "output_type": "stream",
     "text": [
      "Accuracy:0.9300000071525574\n"
     ]
    }
   ],
   "source": [
    "target_feature_eval = feature_extractor(target_X_eval)\n",
    "pred_y_task = task_classifier(target_feature_eval)\n",
    "pred_y_task = torch.sigmoid(pred_y_task).reshape(-1)\n",
    "pred_y_task = pred_y_task > 0.5\n",
    "\n",
    "acc = sum(pred_y_task == target_y_task) / target_y_task.shape[0]\n",
    "print(f\"Accuracy:{acc}\")"
   ]
  },
  {
   "cell_type": "code",
   "execution_count": 13,
   "id": "995b71a7-d027-4a12-a437-785b2b0df998",
   "metadata": {},
   "outputs": [
    {
     "data": {
      "text/plain": [
       "<matplotlib.colorbar.Colorbar at 0x7f4204044490>"
      ]
     },
     "execution_count": 13,
     "metadata": {},
     "output_type": "execute_result"
    },
    {
     "data": {
      "image/png": "[encoded data removed]",
      "text/plain": [
       "<Figure size 432x288 with 2 Axes>"
      ]
     },
     "metadata": {
      "needs_background": "light"
     },
     "output_type": "display_data"
    }
   ],
   "source": [
    "source_X_eval = source_X_eval.cpu()\n",
    "target_X_eval = target_X_eval.cpu()\n",
    "target_y_task = target_y_task.cpu()\n",
    "\n",
    "x_grid = torch.tensor(x_grid, dtype=torch.float32)\n",
    "x_grid = x_grid.to(device)\n",
    "\n",
    "x_grid = feature_extractor(x_grid.T)\n",
    "y_grid = task_classifier(x_grid)\n",
    "y_grid = torch.sigmoid(y_grid)\n",
    "y_grid = y_grid.cpu().detach().numpy()\n",
    "\n",
    "plt.title(\"Domain Adaptation Boundary\")\n",
    "plt.scatter(source_X_eval[:, 0], source_X_eval[:, 1], c=source_y_task_eval)\n",
    "plt.scatter(target_X_eval[:, 0], target_X_eval[:, 1], c=\"black\")\n",
    "plt.contourf(x1_grid, x2_grid, y_grid.reshape(100, 100), alpha=0.3)\n",
    "plt.colorbar()"
   ]
  },
  {
   "cell_type": "markdown",
   "id": "998239cc-d0ac-45ce-a4da-e0ec59ec462f",
   "metadata": {},
   "source": [
    "# Without Adaptation"
   ]
  },
  {
   "cell_type": "code",
   "execution_count": null,
   "id": "62fda960-d8ac-4b70-8d23-04e7f167b24f",
   "metadata": {},
   "outputs": [],
   "source": []
  },
  {
   "cell_type": "code",
   "execution_count": null,
   "id": "ca898443-a2e3-4b10-aed5-458b61228ab1",
   "metadata": {},
   "outputs": [],
   "source": []
  },
  {
   "cell_type": "code",
   "execution_count": null,
   "id": "1200480c-c4b8-4faa-a6b4-53228eba0981",
   "metadata": {},
   "outputs": [],
   "source": []
  }
 ],
 "metadata": {
  "kernelspec": {
   "display_name": "Python 3 (ipykernel)",
   "language": "python",
   "name": "python3"
  },
  "language_info": {
   "codemirror_mode": {
    "name": "ipython",
    "version": 3
   },
   "file_extension": ".py",
   "mimetype": "text/x-python",
   "name": "python",
   "nbconvert_exporter": "python",
   "pygments_lexer": "ipython3",
   "version": "3.8.8"
  }
 },
 "nbformat": 4,
 "nbformat_minor": 5
}
