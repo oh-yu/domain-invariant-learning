{
 "cells": [
  {
   "cell_type": "code",
   "execution_count": null,
   "metadata": {},
   "outputs": [],
   "source": [
    "class LearningSurrogateLoss:\n",
    "    def __init__(self):\n",
    "        pass\n",
    "    def predict(self, df, household_idx):\n",
    "        # Line1\n",
    "        df = self._prior(df, household_idx)\n",
    "\n",
    "    def _prior(self, df, household_idx=1):\n",
    "        if household_idx in [2]:\n",
    "            preds_time = []\n",
    "            for _, row in df.iterrows():\n",
    "                if (row.Time >= 18) & (row.Time <= 40):\n",
    "                    preds_time.append(0)\n",
    "                else:\n",
    "                    preds_time.append(1)\n",
    "            df[\"preds_time\"] = preds_time\n",
    "        elif household_idx in [1, 3]:\n",
    "            preds_time = []\n",
    "            for _, row in df.iterrows():\n",
    "                if (row[\"Time\"] >= 24) & (row[\"Time\"] <= 28):\n",
    "                    preds_time.append(0)\n",
    "                else:\n",
    "                    preds_time.append(1)\n",
    "            df[\"preds_time\"] = preds_time\n",
    "        return df"
   ]
  }
 ],
 "metadata": {
  "language_info": {
   "name": "python"
  }
 },
 "nbformat": 4,
 "nbformat_minor": 2
}
