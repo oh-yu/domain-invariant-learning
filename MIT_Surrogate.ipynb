{
 "cells": [
  {
   "cell_type": "code",
   "execution_count": null,
   "metadata": {},
   "outputs": [],
   "source": [
    "from sklearn.model_selection import KFold\n",
    "from sklearn.tree import DecisionTreeClassifier\n",
    "\n",
    "class LearningSurrogateLoss:\n",
    "    def __init__(self):\n",
    "        pass\n",
    "    def predict(self, df, household_idx):\n",
    "        # Line1\n",
    "        df = self._prior(df, household_idx)\n",
    "\n",
    "        # Line2\n",
    "        self._cv(df)\n",
    "    def _cv(self, df):\n",
    "        kf = KFold(n_splits=5, random_state=0, shuffle=True)\n",
    "        losses = []\n",
    "        for train_idx, test_idx in kf.split(df):\n",
    "            # split data into train, test\n",
    "            train_x, test_x = df[train_idx].Energy, df[test_idx].Energy\n",
    "            # TODO: whether or not use Energy only?\n",
    "            train_y, test_y = df[train_idx].preds_time, df[test_idx].preds_time\n",
    "\n",
    "            # training\n",
    "            model_energy = DecisionTreeClassifier(max_depth=3)\n",
    "            model_energy.fit(train_x.values.reshape(-1, 1), train_y)\n",
    "            # test\n",
    "            preds = model_energy.predict(test_x.values.reshape(-1, 1))\n",
    "            # Loss\n",
    "            loss = self._loss(test_y, preds)\n",
    "            losses.append(loss)\n",
    "        return losses\n",
    "       \n",
    "\n",
    "    def _prior(self, df, household_idx=1):\n",
    "        if household_idx in [2]:\n",
    "            preds_time = []\n",
    "            for _, row in df.iterrows():\n",
    "                if (row.Time >= 18) & (row.Time <= 40):\n",
    "                    preds_time.append(0)\n",
    "                else:\n",
    "                    preds_time.append(1)\n",
    "            df[\"preds_time\"] = preds_time\n",
    "        elif household_idx in [1, 3]:\n",
    "            preds_time = []\n",
    "            for _, row in df.iterrows():\n",
    "                if (row[\"Time\"] >= 24) & (row[\"Time\"] <= 28):\n",
    "                    preds_time.append(0)\n",
    "                else:\n",
    "                    preds_time.append(1)\n",
    "            df[\"preds_time\"] = preds_time\n",
    "        return df"
   ]
  }
 ],
 "metadata": {
  "language_info": {
   "name": "python"
  }
 },
 "nbformat": 4,
 "nbformat_minor": 2
}
