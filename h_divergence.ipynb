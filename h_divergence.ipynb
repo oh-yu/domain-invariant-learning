{
 "cells": [
  {
   "cell_type": "code",
   "execution_count": 13,
   "metadata": {},
   "outputs": [],
   "source": [
    "import pandas as pd\n",
    "from sklearn import preprocessing\n",
    "import torch\n",
    "from torch import optim\n",
    "\n",
    "from utils import utils\n",
    "DEVICE = utils.DEVICE"
   ]
  },
  {
   "cell_type": "markdown",
   "metadata": {},
   "source": [
    "# 0. Prep Data"
   ]
  },
  {
   "cell_type": "code",
   "execution_count": 14,
   "metadata": {},
   "outputs": [],
   "source": [
    "source_idx = 1\n",
    "target_idx = 2\n",
    "winter_idx = 0\n",
    "\n",
    "train_source_X = pd.read_csv(f\"./deep_occupancy_detection/data/{source_idx}_X_train.csv\")\n",
    "target_X = pd.read_csv(f\"./deep_occupancy_detection/data/{target_idx}_X_train.csv\")\n",
    "train_source_y_task = pd.read_csv(f\"./deep_occupancy_detection/data/{source_idx}_Y_train.csv\")[train_source_X.Season==winter_idx].values.reshape(-1)\n",
    "target_y_task = pd.read_csv(f\"./deep_occupancy_detection/data/{target_idx}_Y_train.csv\")[target_X.Season==winter_idx].values.reshape(-1)\n",
    "train_source_X = train_source_X[train_source_X.Season==winter_idx]\n",
    "target_X = target_X[target_X.Season==winter_idx]"
   ]
  },
  {
   "cell_type": "code",
   "execution_count": 15,
   "metadata": {},
   "outputs": [
    {
     "data": {
      "text/html": [
       "<div>\n",
       "<style scoped>\n",
       "    .dataframe tbody tr th:only-of-type {\n",
       "        vertical-align: middle;\n",
       "    }\n",
       "\n",
       "    .dataframe tbody tr th {\n",
       "        vertical-align: top;\n",
       "    }\n",
       "\n",
       "    .dataframe thead th {\n",
       "        text-align: right;\n",
       "    }\n",
       "</style>\n",
       "<table border=\"1\" class=\"dataframe\">\n",
       "  <thead>\n",
       "    <tr style=\"text-align: right;\">\n",
       "      <th></th>\n",
       "      <th>Energy</th>\n",
       "      <th>Season</th>\n",
       "      <th>Time</th>\n",
       "    </tr>\n",
       "  </thead>\n",
       "  <tbody>\n",
       "    <tr>\n",
       "      <th>1248</th>\n",
       "      <td>227903.247</td>\n",
       "      <td>0</td>\n",
       "      <td>12</td>\n",
       "    </tr>\n",
       "    <tr>\n",
       "      <th>1249</th>\n",
       "      <td>310118.934</td>\n",
       "      <td>0</td>\n",
       "      <td>13</td>\n",
       "    </tr>\n",
       "    <tr>\n",
       "      <th>1250</th>\n",
       "      <td>371554.363</td>\n",
       "      <td>0</td>\n",
       "      <td>14</td>\n",
       "    </tr>\n",
       "    <tr>\n",
       "      <th>1251</th>\n",
       "      <td>851215.054</td>\n",
       "      <td>0</td>\n",
       "      <td>15</td>\n",
       "    </tr>\n",
       "    <tr>\n",
       "      <th>1252</th>\n",
       "      <td>731550.916</td>\n",
       "      <td>0</td>\n",
       "      <td>16</td>\n",
       "    </tr>\n",
       "    <tr>\n",
       "      <th>...</th>\n",
       "      <td>...</td>\n",
       "      <td>...</td>\n",
       "      <td>...</td>\n",
       "    </tr>\n",
       "    <tr>\n",
       "      <th>2715</th>\n",
       "      <td>749873.285</td>\n",
       "      <td>0</td>\n",
       "      <td>39</td>\n",
       "    </tr>\n",
       "    <tr>\n",
       "      <th>2716</th>\n",
       "      <td>2196655.709</td>\n",
       "      <td>0</td>\n",
       "      <td>40</td>\n",
       "    </tr>\n",
       "    <tr>\n",
       "      <th>2717</th>\n",
       "      <td>691079.162</td>\n",
       "      <td>0</td>\n",
       "      <td>41</td>\n",
       "    </tr>\n",
       "    <tr>\n",
       "      <th>2718</th>\n",
       "      <td>937151.981</td>\n",
       "      <td>0</td>\n",
       "      <td>42</td>\n",
       "    </tr>\n",
       "    <tr>\n",
       "      <th>2719</th>\n",
       "      <td>1992775.211</td>\n",
       "      <td>0</td>\n",
       "      <td>43</td>\n",
       "    </tr>\n",
       "  </tbody>\n",
       "</table>\n",
       "<p>1472 rows × 3 columns</p>\n",
       "</div>"
      ],
      "text/plain": [
       "           Energy  Season  Time\n",
       "1248   227903.247       0    12\n",
       "1249   310118.934       0    13\n",
       "1250   371554.363       0    14\n",
       "1251   851215.054       0    15\n",
       "1252   731550.916       0    16\n",
       "...           ...     ...   ...\n",
       "2715   749873.285       0    39\n",
       "2716  2196655.709       0    40\n",
       "2717   691079.162       0    41\n",
       "2718   937151.981       0    42\n",
       "2719  1992775.211       0    43\n",
       "\n",
       "[1472 rows x 3 columns]"
      ]
     },
     "execution_count": 15,
     "metadata": {},
     "output_type": "execute_result"
    }
   ],
   "source": [
    "train_source_X"
   ]
  },
  {
   "cell_type": "code",
   "execution_count": 16,
   "metadata": {},
   "outputs": [
    {
     "data": {
      "text/html": [
       "<div>\n",
       "<style scoped>\n",
       "    .dataframe tbody tr th:only-of-type {\n",
       "        vertical-align: middle;\n",
       "    }\n",
       "\n",
       "    .dataframe tbody tr th {\n",
       "        vertical-align: top;\n",
       "    }\n",
       "\n",
       "    .dataframe thead th {\n",
       "        text-align: right;\n",
       "    }\n",
       "</style>\n",
       "<table border=\"1\" class=\"dataframe\">\n",
       "  <thead>\n",
       "    <tr style=\"text-align: right;\">\n",
       "      <th></th>\n",
       "      <th>Energy</th>\n",
       "      <th>Season</th>\n",
       "      <th>Time</th>\n",
       "    </tr>\n",
       "  </thead>\n",
       "  <tbody>\n",
       "    <tr>\n",
       "      <th>2176</th>\n",
       "      <td>168649.947</td>\n",
       "      <td>0</td>\n",
       "      <td>12</td>\n",
       "    </tr>\n",
       "    <tr>\n",
       "      <th>2177</th>\n",
       "      <td>169192.356</td>\n",
       "      <td>0</td>\n",
       "      <td>13</td>\n",
       "    </tr>\n",
       "    <tr>\n",
       "      <th>2178</th>\n",
       "      <td>168560.052</td>\n",
       "      <td>0</td>\n",
       "      <td>14</td>\n",
       "    </tr>\n",
       "    <tr>\n",
       "      <th>2179</th>\n",
       "      <td>130375.163</td>\n",
       "      <td>0</td>\n",
       "      <td>15</td>\n",
       "    </tr>\n",
       "    <tr>\n",
       "      <th>2180</th>\n",
       "      <td>132788.967</td>\n",
       "      <td>0</td>\n",
       "      <td>16</td>\n",
       "    </tr>\n",
       "    <tr>\n",
       "      <th>...</th>\n",
       "      <td>...</td>\n",
       "      <td>...</td>\n",
       "      <td>...</td>\n",
       "    </tr>\n",
       "    <tr>\n",
       "      <th>3131</th>\n",
       "      <td>996765.945</td>\n",
       "      <td>0</td>\n",
       "      <td>39</td>\n",
       "    </tr>\n",
       "    <tr>\n",
       "      <th>3132</th>\n",
       "      <td>1305499.967</td>\n",
       "      <td>0</td>\n",
       "      <td>40</td>\n",
       "    </tr>\n",
       "    <tr>\n",
       "      <th>3133</th>\n",
       "      <td>886801.848</td>\n",
       "      <td>0</td>\n",
       "      <td>41</td>\n",
       "    </tr>\n",
       "    <tr>\n",
       "      <th>3134</th>\n",
       "      <td>991335.091</td>\n",
       "      <td>0</td>\n",
       "      <td>42</td>\n",
       "    </tr>\n",
       "    <tr>\n",
       "      <th>3135</th>\n",
       "      <td>660363.485</td>\n",
       "      <td>0</td>\n",
       "      <td>43</td>\n",
       "    </tr>\n",
       "  </tbody>\n",
       "</table>\n",
       "<p>960 rows × 3 columns</p>\n",
       "</div>"
      ],
      "text/plain": [
       "           Energy  Season  Time\n",
       "2176   168649.947       0    12\n",
       "2177   169192.356       0    13\n",
       "2178   168560.052       0    14\n",
       "2179   130375.163       0    15\n",
       "2180   132788.967       0    16\n",
       "...           ...     ...   ...\n",
       "3131   996765.945       0    39\n",
       "3132  1305499.967       0    40\n",
       "3133   886801.848       0    41\n",
       "3134   991335.091       0    42\n",
       "3135   660363.485       0    43\n",
       "\n",
       "[960 rows x 3 columns]"
      ]
     },
     "execution_count": 16,
     "metadata": {},
     "output_type": "execute_result"
    }
   ],
   "source": [
    "target_X"
   ]
  },
  {
   "cell_type": "code",
   "execution_count": 17,
   "metadata": {},
   "outputs": [],
   "source": [
    "scaler = preprocessing.StandardScaler()\n",
    "scaler.fit(train_source_X)\n",
    "train_source_X = scaler.transform(train_source_X)\n",
    "target_X = scaler.transform(target_X)\n",
    "\n",
    "train_source_X, train_source_y_task = utils.apply_sliding_window(train_source_X, train_source_y_task, filter_len=6)\n",
    "target_X, target_y_task = utils.apply_sliding_window(target_X, target_y_task, filter_len=6)"
   ]
  },
  {
   "cell_type": "code",
   "execution_count": 18,
   "metadata": {},
   "outputs": [],
   "source": [
    "source_loader, target_loader, _, source_X, target_X, _ = utils.get_loader(train_source_X, target_X, train_source_y_task, target_y_task, shuffle=True)"
   ]
  },
  {
   "cell_type": "markdown",
   "metadata": {},
   "source": [
    "# 1. H-divergence\n",
    "## 1.1 Model Fit\n"
   ]
  },
  {
   "cell_type": "code",
   "execution_count": 19,
   "metadata": {},
   "outputs": [],
   "source": [
    "feature_extractor = utils.Conv1d(input_size=train_source_X.shape[2]).to(DEVICE)\n",
    "domain_classifier = utils.Decoder(input_size=128, output_size=1).to(DEVICE)\n",
    "criterion = torch.nn.BCELoss()\n",
    "\n",
    "feature_optimizer = optim.Adam(feature_extractor.parameters(), lr=0.0001)\n",
    "domain_optimizer = optim.Adam(domain_classifier.parameters(), lr=0.0001)"
   ]
  },
  {
   "cell_type": "code",
   "execution_count": 20,
   "metadata": {},
   "outputs": [
    {
     "name": "stdout",
     "output_type": "stream",
     "text": [
      "Loss: 1.3868377208709717\n",
      "Loss: 1.37479567527771\n",
      "Loss: 1.0229378938674927\n"
     ]
    }
   ],
   "source": [
    "for epoch in range(30):\n",
    "    for i, (source_data, target_data) in enumerate(zip(source_loader, target_loader)):\n",
    "        source_X_tmp, source_y = source_data\n",
    "        source_y = source_y[:, 1]\n",
    "        target_X, target_y = target_data\n",
    "\n",
    "        source_feature = feature_extractor(source_X_tmp)\n",
    "        target_feature = feature_extractor(target_X)\n",
    "\n",
    "        source_output = domain_classifier(source_feature)\n",
    "        target_output = domain_classifier(target_feature)\n",
    "\n",
    "        source_output = torch.sigmoid(source_output).reshape(-1)\n",
    "        target_output = torch.sigmoid(target_output).reshape(-1)\n",
    "        loss = criterion(source_output, torch.zeros_like(source_output))\n",
    "        loss += criterion(target_output, torch.ones_like(target_output))\n",
    "        feature_optimizer.zero_grad()\n",
    "        domain_optimizer.zero_grad()\n",
    "        loss.backward()\n",
    "        feature_optimizer.step()\n",
    "        domain_optimizer.step()\n",
    "    if epoch % 10 == 0:\n",
    "        print(f\"Loss: {loss.item()}\")"
   ]
  },
  {
   "cell_type": "markdown",
   "metadata": {},
   "source": [
    "## 1.2 Calc Error Rate"
   ]
  },
  {
   "cell_type": "code",
   "execution_count": 21,
   "metadata": {},
   "outputs": [],
   "source": [
    "pred_y = domain_classifier(feature_extractor(source_X))\n",
    "pred_y = torch.sigmoid(pred_y).reshape(-1)\n",
    "pred_y = pred_y > 0.5\n",
    "source_y = torch.zeros_like(pred_y)\n",
    "acc_source = sum(pred_y == source_y) / pred_y.shape[0]\n",
    "err_source = 1-acc_source"
   ]
  },
  {
   "cell_type": "code",
   "execution_count": 22,
   "metadata": {},
   "outputs": [],
   "source": [
    "pred_y = domain_classifier(feature_extractor(target_X))\n",
    "pred_y = torch.sigmoid(pred_y).reshape(-1)\n",
    "pred_y = pred_y > 0.5\n",
    "target_y = torch.ones_like(pred_y)\n",
    "acc_target = sum(pred_y == target_y) / pred_y.shape[0]\n",
    "err_target = 1-acc_target"
   ]
  },
  {
   "cell_type": "code",
   "execution_count": 23,
   "metadata": {},
   "outputs": [],
   "source": [
    "h_divergence = 2*(1- (err_source+err_target))"
   ]
  },
  {
   "cell_type": "code",
   "execution_count": 24,
   "metadata": {},
   "outputs": [
    {
     "data": {
      "text/plain": [
       "tensor(1.9959, device='cuda:0')"
      ]
     },
     "execution_count": 24,
     "metadata": {},
     "output_type": "execute_result"
    }
   ],
   "source": [
    "h_divergence"
   ]
  }
 ],
 "metadata": {
  "kernelspec": {
   "display_name": "Python 3 (ipykernel)",
   "language": "python",
   "name": "python3"
  },
  "language_info": {
   "codemirror_mode": {
    "name": "ipython",
    "version": 3
   },
   "file_extension": ".py",
   "mimetype": "text/x-python",
   "name": "python",
   "nbconvert_exporter": "python",
   "pygments_lexer": "ipython3",
   "version": "3.8.8"
  }
 },
 "nbformat": 4,
 "nbformat_minor": 4
}
