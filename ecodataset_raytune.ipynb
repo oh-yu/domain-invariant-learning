{
 "cells": [
  {
   "cell_type": "markdown",
   "id": "4e0ddc2f-d0fc-4140-80b3-6bf80af6d0b8",
   "metadata": {},
   "source": [
    "# Import Modules"
   ]
  },
  {
   "cell_type": "code",
   "execution_count": 1,
   "id": "976fe1d7-0bdf-4555-8909-1d810ebc2ed6",
   "metadata": {},
   "outputs": [],
   "source": [
    "from functools import partial\n",
    "\n",
    "import datetime\n",
    "import pandas as pd\n",
    "from ray import tune\n",
    "from ray.tune.suggest.hyperopt import HyperOptSearch\n",
    "from ray.tune.schedulers import ASHAScheduler\n",
    "from ray.tune.integration.wandb import WandbLogger\n",
    "from sklearn import preprocessing\n",
    "\n",
    "import utils"
   ]
  },
  {
   "cell_type": "code",
   "execution_count": 2,
   "id": "6cf8b15b",
   "metadata": {},
   "outputs": [],
   "source": [
    "start_date = datetime.datetime.now()\n",
    "start_date = start_date.strftime('%Y-%m-%d-%H-%M-%S')"
   ]
  },
  {
   "cell_type": "markdown",
   "id": "9522424d-7167-4b80-8e85-bbbe34c755d3",
   "metadata": {},
   "source": [
    "# Prepare Data"
   ]
  },
  {
   "cell_type": "code",
   "execution_count": 3,
   "id": "8e0dc8b2-7796-4aad-902a-b043143a999a",
   "metadata": {},
   "outputs": [],
   "source": [
    "source_X = pd.read_csv(\"./deep_occupancy_detection/data/1_X_train.csv\").values\n",
    "target_X = pd.read_csv(\"./deep_occupancy_detection/data/2_X_train.csv\").values\n",
    "source_y_task = pd.read_csv(\"./deep_occupancy_detection/data/1_Y_train.csv\").values.reshape(-1)\n",
    "target_y_task = pd.read_csv(\"./deep_occupancy_detection/data/2_Y_train.csv\").values.reshape(-1)\n",
    "\n",
    "scaler = preprocessing.StandardScaler()\n",
    "source_X = scaler.fit_transform(source_X)\n",
    "target_X = scaler.fit_transform(target_X)"
   ]
  },
  {
   "cell_type": "code",
   "execution_count": null,
   "id": "7b463a25",
   "metadata": {},
   "outputs": [],
   "source": [
    "source_loader, target_loader, source_y_task, source_X, target_X, target_y_task = utils.get_loader(source_X, target_X, source_y_task, target_y_task)"
   ]
  },
  {
   "cell_type": "markdown",
   "id": "400cb83b-fad5-4641-aba3-ebee6611954a",
   "metadata": {},
   "source": [
    "# Raytune TPE"
   ]
  },
  {
   "cell_type": "code",
   "execution_count": 3,
   "id": "9b114e41-be1f-4d8d-868a-7d804b83fe33",
   "metadata": {},
   "outputs": [],
   "source": [
    "options = {\n",
    "    \"source_loader\": source_loader,\n",
    "    \"target_loader\": target_loader,\n",
    "    \"source_X\": source_X,\n",
    "    \"target_X\": target_X,\n",
    "    \"target_y_task\": target_y_task\n",
    "}"
   ]
  },
  {
   "cell_type": "code",
   "execution_count": null,
   "id": "15486392",
   "metadata": {},
   "outputs": [],
   "source": [
    "config = {\n",
    "    \"hidden_size\": tune.randint(5, 500),\n",
    "    \"domain_fc1_size\": tune.randint(5, 500),\n",
    "    \"domain_fc2_size\": tune.randint(5, 500),\n",
    "    \"task_fc1_size\": tune.randint(5, 500),\n",
    "    \"task_fc2_size\": tune.randint(5, 500),\n",
    "\n",
    "    \"feature_learning_rate\": tune.loguniform(1e-4, 1e-1),\n",
    "    \"feature_weight_decay\": tune.loguniform(1e-10, 1e-1),\n",
    "    \"feature_eps\": tune.loguniform(1e-10, 1e-1),\n",
    "\n",
    "    \"domain_learning_rate\": tune.loguniform(1e-4, 1e-1),\n",
    "    \"domain_weight_decay\": tune.loguniform(1e-10, 1e-1),\n",
    "    \"domain_eps\": tune.loguniform(1e-10, 1e-1),\n",
    "\n",
    "    \"task_learning_rate\": tune.loguniform(1e-4, 1e-1),\n",
    "    \"task_weight_decay\": tune.loguniform(1e-10, 1e-1),\n",
    "    \"task_eps\": tune.loguniform(1e-10, 1e-1),\n",
    "\n",
    "    \"wandb\": {\n",
    "        \"project\": f\"project_{start_date}\",\n",
    "        \"api_key_file\": \"./wandb_api_key.txt\"\n",
    "    }\n",
    "}"
   ]
  },
  {
   "cell_type": "code",
   "execution_count": null,
   "id": "803cd306-e155-4583-9c72-7e2c2d419b31",
   "metadata": {},
   "outputs": [],
   "source": [
    "hyperopt = HyperOptSearch(metric=\"loss\", mode=\"min\")\n",
    "scheduler = ASHAScheduler(metric='loss', mode='min')"
   ]
  },
  {
   "cell_type": "code",
   "execution_count": null,
   "id": "d4ef61c5-a3cb-4618-984e-184964ef639c",
   "metadata": {},
   "outputs": [],
   "source": [
    "analysis = tune.run(\n",
    "    partial(utils.raytune_trainer, options=options),\n",
    "    # TODO: Understand partial\n",
    "    config=config,\n",
    "    num_samples=50,\n",
    "    search_alg=hyperopt,\n",
    "    resources_per_trial={'cpu':4, 'gpu':1},\n",
    "    scheduler=scheduler,\n",
    "    loggers=[WandbLogger]\n",
    ")"
   ]
  }
 ],
 "metadata": {
  "kernelspec": {
   "display_name": "Python 3 (ipykernel)",
   "language": "python",
   "name": "python3"
  },
  "language_info": {
   "codemirror_mode": {
    "name": "ipython",
    "version": 3
   },
   "file_extension": ".py",
   "mimetype": "text/x-python",
   "name": "python",
   "nbconvert_exporter": "python",
   "pygments_lexer": "ipython3",
   "version": "3.8.8"
  }
 },
 "nbformat": 4,
 "nbformat_minor": 5
}
