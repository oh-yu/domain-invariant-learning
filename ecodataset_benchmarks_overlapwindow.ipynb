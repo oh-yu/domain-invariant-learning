{
 "cells": [
  {
   "cell_type": "markdown",
   "id": "234de2d8-0b2c-43f7-80a7-26c433b60dc4",
   "metadata": {},
   "source": [
    "# Import Modules"
   ]
  },
  {
   "cell_type": "code",
   "execution_count": 14,
   "id": "3171ba7a-1e21-4492-978e-b7cc347a4f0b",
   "metadata": {},
   "outputs": [],
   "source": [
    "import pandas as pd\n",
    "from sklearn import preprocessing\n",
    "from sklearn.model_selection import train_test_split\n",
    "import torch\n",
    "from torch import nn\n",
    "from torch import optim\n",
    "from torch.utils.data import TensorDataset, DataLoader\n",
    "\n",
    "import utils"
   ]
  },
  {
   "cell_type": "code",
   "execution_count": 15,
   "id": "7dc1b1f5-fa8c-40d6-bbe7-b79944f0633e",
   "metadata": {},
   "outputs": [],
   "source": [
    "device = torch.device(\"cuda\" if torch.cuda.is_available() else \"cpu\")"
   ]
  },
  {
   "cell_type": "markdown",
   "id": "55825e47-b522-42d9-9b01-3c35fbfaa6b0",
   "metadata": {},
   "source": [
    "# Prepare Data"
   ]
  },
  {
   "cell_type": "code",
   "execution_count": 16,
   "id": "de662c0a-914a-4001-956e-de22a86f3523",
   "metadata": {},
   "outputs": [],
   "source": [
    "train_source_X = pd.read_csv(\"./deep_occupancy_detection/data/2_X_train.csv\").values\n",
    "target_X = pd.read_csv(\"./deep_occupancy_detection/data/1_X_train.csv\").values\n",
    "train_source_y_task = pd.read_csv(\"./deep_occupancy_detection/data/2_Y_train.csv\").values.reshape(-1)\n",
    "target_y_task = pd.read_csv(\"./deep_occupancy_detection/data/1_Y_train.csv\").values.reshape(-1)\n",
    "\n",
    "scaler = preprocessing.StandardScaler()\n",
    "train_source_X = scaler.fit_transform(train_source_X)\n",
    "target_X = scaler.fit_transform(target_X)"
   ]
  },
  {
   "cell_type": "code",
   "execution_count": 17,
   "id": "978d042e-d884-4bf4-87b7-ccc52a420c8a",
   "metadata": {},
   "outputs": [],
   "source": [
    "train_source_X, train_source_y_task = utils.apply_sliding_window(train_source_X, train_source_y_task, filter_len=3)\n",
    "target_X, target_y_task = utils.apply_sliding_window(target_X, target_y_task, filter_len=3)\n",
    "_, test_target_X, _, test_target_y_task = train_test_split(target_X, target_y_task, test_size=0.3, shuffle=False)"
   ]
  },
  {
   "cell_type": "code",
   "execution_count": 18,
   "id": "b9283807-82cf-49bd-92a5-29cc3b61c6a4",
   "metadata": {},
   "outputs": [],
   "source": [
    "train_source_X = torch.tensor(train_source_X, dtype=torch.float32)\n",
    "train_source_y_task = torch.tensor(train_source_y_task, dtype=torch.float32)\n",
    "test_target_X = torch.tensor(test_target_X, dtype=torch.float32)\n",
    "test_target_y_task = torch.tensor(test_target_y_task, dtype=torch.float32)\n",
    "\n",
    "train_source_X = train_source_X.to(device)\n",
    "train_source_y_task = train_source_y_task.to(device)\n",
    "test_target_X = test_target_X.to(device)\n",
    "test_target_y_task = test_target_y_task.to(device)\n",
    "\n",
    "source_ds = TensorDataset(train_source_X, train_source_y_task)\n",
    "source_loader = DataLoader(source_ds, batch_size=34, shuffle=True)"
   ]
  }
 ],
 "metadata": {
  "kernelspec": {
   "display_name": "Python 3 (ipykernel)",
   "language": "python",
   "name": "python3"
  },
  "language_info": {
   "codemirror_mode": {
    "name": "ipython",
    "version": 3
   },
   "file_extension": ".py",
   "mimetype": "text/x-python",
   "name": "python",
   "nbconvert_exporter": "python",
   "pygments_lexer": "ipython3",
   "version": "3.8.8"
  }
 },
 "nbformat": 4,
 "nbformat_minor": 5
}
