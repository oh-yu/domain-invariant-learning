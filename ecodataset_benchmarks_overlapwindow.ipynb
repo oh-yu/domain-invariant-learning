{
 "cells": [
  {
   "cell_type": "markdown",
   "id": "234de2d8-0b2c-43f7-80a7-26c433b60dc4",
   "metadata": {},
   "source": [
    "# Import Modules"
   ]
  },
  {
   "cell_type": "code",
   "execution_count": 1,
   "id": "3171ba7a-1e21-4492-978e-b7cc347a4f0b",
   "metadata": {},
   "outputs": [],
   "source": [
    "import matplotlib.pyplot as plt\n",
    "import numpy as np\n",
    "import pandas as pd\n",
    "from sklearn import preprocessing\n",
    "from sklearn.ensemble import RandomForestClassifier\n",
    "from sklearn.model_selection import train_test_split\n",
    "from sklearn.svm import SVC\n",
    "import torch\n",
    "from torch import nn\n",
    "from torch import optim\n",
    "from torch.utils.data import TensorDataset, DataLoader\n",
    "\n",
    "from deep_occupancy_detection import models\n",
    "import utils"
   ]
  },
  {
   "cell_type": "code",
   "execution_count": 2,
   "id": "7dc1b1f5-fa8c-40d6-bbe7-b79944f0633e",
   "metadata": {},
   "outputs": [],
   "source": [
    "device = torch.device(\"cuda\" if torch.cuda.is_available() else \"cpu\")"
   ]
  },
  {
   "cell_type": "markdown",
   "id": "55825e47-b522-42d9-9b01-3c35fbfaa6b0",
   "metadata": {},
   "source": [
    "# Prepare Data"
   ]
  },
  {
   "cell_type": "code",
   "execution_count": 3,
   "id": "de662c0a-914a-4001-956e-de22a86f3523",
   "metadata": {},
   "outputs": [],
   "source": [
    "train_source_X = pd.read_csv(\"./deep_occupancy_detection/data/2_X_train.csv\").values\n",
    "target_X = pd.read_csv(\"./deep_occupancy_detection/data/1_X_train.csv\").values\n",
    "train_source_y_task = pd.read_csv(\"./deep_occupancy_detection/data/2_Y_train.csv\").values.reshape(-1)\n",
    "target_y_task = pd.read_csv(\"./deep_occupancy_detection/data/1_Y_train.csv\").values.reshape(-1)\n",
    "\n",
    "scaler = preprocessing.StandardScaler()\n",
    "train_source_X = scaler.fit_transform(train_source_X)\n",
    "target_X = scaler.fit_transform(target_X)"
   ]
  },
  {
   "cell_type": "code",
   "execution_count": 4,
   "id": "978d042e-d884-4bf4-87b7-ccc52a420c8a",
   "metadata": {},
   "outputs": [],
   "source": [
    "train_source_X, train_source_y_task = utils.apply_sliding_window(train_source_X, train_source_y_task, filter_len=3)\n",
    "target_X, target_y_task = utils.apply_sliding_window(target_X, target_y_task, filter_len=3)\n",
    "_, test_target_X, _, test_target_y_task = train_test_split(target_X, target_y_task, test_size=0.5, shuffle=False)"
   ]
  },
  {
   "cell_type": "code",
   "execution_count": 5,
   "id": "b9283807-82cf-49bd-92a5-29cc3b61c6a4",
   "metadata": {},
   "outputs": [],
   "source": [
    "train_source_X = torch.tensor(train_source_X, dtype=torch.float32)\n",
    "train_source_y_task = torch.tensor(train_source_y_task, dtype=torch.float32)\n",
    "test_target_X = torch.tensor(test_target_X, dtype=torch.float32)\n",
    "test_target_y_task = torch.tensor(test_target_y_task, dtype=torch.float32)\n",
    "\n",
    "train_source_X = train_source_X.to(device)\n",
    "train_source_y_task = train_source_y_task.to(device)\n",
    "test_target_X = test_target_X.to(device)\n",
    "test_target_y_task = test_target_y_task.to(device)\n",
    "\n",
    "source_ds = TensorDataset(train_source_X, train_source_y_task)\n",
    "source_loader = DataLoader(source_ds, batch_size=34, shuffle=True)"
   ]
  },
  {
   "cell_type": "markdown",
   "id": "aea8e30c-38aa-4d96-a179-9c954b764329",
   "metadata": {},
   "source": [
    "# Benchmark1. ecodataset_rnn_overlapwindow.ipynb - Domain Classifier, Target Data"
   ]
  },
  {
   "cell_type": "code",
   "execution_count": 8,
   "id": "863e75ad-ceea-4a02-a0aa-d2e3b1e556e5",
   "metadata": {},
   "outputs": [],
   "source": [
    "hidden_size = 128\n",
    "num_classes = 1\n",
    "learning_rate = 0.01\n",
    "\n",
    "feature_extractor = utils.ManyToOneRNN(input_size=train_source_X.shape[2], hidden_size=hidden_size, num_layers=1).to(device)\n",
    "task_classifier = utils.Decoder(input_size=hidden_size, output_size=num_classes).to(device)\n",
    "\n",
    "criterion = nn.BCELoss()\n",
    "feature_optimizer = optim.Adam(feature_extractor.parameters(), lr=learning_rate)\n",
    "task_optimizer = optim.Adam(task_classifier.parameters(), lr=learning_rate)"
   ]
  },
  {
   "cell_type": "code",
   "execution_count": 99,
   "id": "05f77814-4b80-45a4-bf6f-3f61ff753e82",
   "metadata": {},
   "outputs": [
    {
     "data": {
      "text/plain": [
       "Text(0, 0.5, 'Binary Cross Entropy')"
      ]
     },
     "execution_count": 99,
     "metadata": {},
     "output_type": "execute_result"
    },
    {
     "data": {
      "image/png": "[encoded data removed]",
      "text/plain": [
       "<Figure size 432x288 with 1 Axes>"
      ]
     },
     "metadata": {
      "needs_background": "light"
     },
     "output_type": "display_data"
    }
   ],
   "source": [
    "num_epochs = 100\n",
    "losses = []\n",
    "# TODO: Refactor, use utils.fit_without_adaptation()\n",
    "for _ in range(num_epochs):\n",
    "    feature_extractor.train()\n",
    "    task_classifier.train()\n",
    "\n",
    "    for source_X_batch, source_y_task_batch in source_loader:\n",
    "        # 1. Forward\n",
    "        pred_y_task = task_classifier(feature_extractor(source_X_batch))\n",
    "        pred_y_task = torch.sigmoid(pred_y_task).reshape(-1)\n",
    "        loss = criterion(pred_y_task, source_y_task_batch)\n",
    "        \n",
    "        # 2. Backward\n",
    "        task_optimizer.zero_grad()\n",
    "        feature_optimizer.zero_grad()\n",
    "        loss.backward()\n",
    "        \n",
    "\n",
    "        # 3. Update Params\n",
    "        feature_optimizer.step()\n",
    "        task_optimizer.step()\n",
    "    \n",
    "    # 4. Evaluation\n",
    "    feature_extractor.eval()\n",
    "    task_classifier.eval()\n",
    "    with torch.no_grad():\n",
    "        pred_y_task = task_classifier(feature_extractor(test_target_X))\n",
    "        pred_y_task = torch.sigmoid(pred_y_task).reshape(-1)\n",
    "        loss = criterion(pred_y_task, test_target_y_task)\n",
    "        losses.append(loss.item())\n",
    "\n",
    "plt.plot(losses)\n",
    "plt.xlabel(\"Epoch\")\n",
    "plt.ylabel(\"Binary Cross Entropy\")"
   ]
  },
  {
   "cell_type": "code",
   "execution_count": 100,
   "id": "26795901-5f8a-4b5a-ad0f-97d04126e684",
   "metadata": {},
   "outputs": [
    {
     "name": "stdout",
     "output_type": "stream",
     "text": [
      "Many To One RNN Accuracy: 0.7923417091369629\n"
     ]
    }
   ],
   "source": [
    "pred_y_task = pred_y_task > 0.5\n",
    "acc = sum(pred_y_task == test_target_y_task) / pred_y_task.shape[0]\n",
    "print(f\"Many To One RNN Accuracy: {acc}\")"
   ]
  },
  {
   "cell_type": "markdown",
   "id": "d6ca1ffd-bb2c-47fd-82cf-2a8bcc77fb40",
   "metadata": {},
   "source": [
    "# Benchmark2. BiLSTM-Attention"
   ]
  },
  {
   "cell_type": "code",
   "execution_count": 9,
   "id": "734f0222-1a0e-4911-a9fd-0d987d2ee601",
   "metadata": {},
   "outputs": [],
   "source": [
    "bilstm_attention = models.AttentionRNN(input_size=train_source_X.shape[2], hidden_size=hidden_size, num_layers=1, num_classes=num_classes)\n",
    "bilstm_attention_optimizer = optim.Adam(bilstm_attention.parameters(), lr=learning_rate)"
   ]
  },
  {
   "cell_type": "code",
   "execution_count": null,
   "id": "df9819c1-07da-4303-b19e-bf77c37855ea",
   "metadata": {},
   "outputs": [],
   "source": []
  },
  {
   "cell_type": "code",
   "execution_count": null,
   "id": "f8af4251-9d55-4c2a-8770-d368904ffadc",
   "metadata": {},
   "outputs": [],
   "source": []
  },
  {
   "cell_type": "markdown",
   "id": "4c5a182d-1b81-4483-ac2f-38a2d1db4908",
   "metadata": {},
   "source": [
    "# Benchmark3. Random Forest"
   ]
  },
  {
   "cell_type": "code",
   "execution_count": 9,
   "id": "ac34faf5-cf87-4eb5-9b13-0d853611b3f7",
   "metadata": {},
   "outputs": [],
   "source": [
    "train_source_X, train_source_y_task = train_source_X.cpu().numpy(), train_source_y_task.cpu().numpy()\n",
    "test_target_X, test_target_y_task = test_target_X.cpu().numpy(), test_target_y_task.cpu().numpy()\n",
    "train_source_X = np.mean(train_source_X, axis=1)\n",
    "test_target_X = np.mean(test_target_X, axis=1)\n",
    "\n",
    "rf = RandomForestClassifier()\n",
    "rf.fit(train_source_X, train_source_y_task)\n",
    "\n",
    "pred_y_task = rf.predict(test_target_X)"
   ]
  },
  {
   "cell_type": "code",
   "execution_count": 10,
   "id": "8e32d396-41f7-48e0-904a-509dd57af911",
   "metadata": {},
   "outputs": [
    {
     "name": "stdout",
     "output_type": "stream",
     "text": [
      "Random Forest Accuracy: 0.8674521354933726\n"
     ]
    }
   ],
   "source": [
    "acc = sum(pred_y_task == test_target_y_task) / pred_y_task.shape[0]\n",
    "print(f\"Random Forest Accuracy: {acc}\")"
   ]
  },
  {
   "cell_type": "markdown",
   "id": "7217762d-0120-4f2e-9d75-ae0d80130c32",
   "metadata": {},
   "source": [
    "# Benchmark4. SVM"
   ]
  },
  {
   "cell_type": "code",
   "execution_count": 14,
   "id": "45e466a9-cdd7-4bb0-9476-6ec55902b5d1",
   "metadata": {},
   "outputs": [
    {
     "name": "stdout",
     "output_type": "stream",
     "text": [
      "Linear SVM Accuracy: 0.8276877761413843\n"
     ]
    }
   ],
   "source": [
    "linear_svm = SVC(kernel=\"linear\")\n",
    "linear_svm.fit(train_source_X, train_source_y_task)\n",
    "pred_y_task = linear_svm.predict(test_target_X)\n",
    "acc = sum(pred_y_task == test_target_y_task) / pred_y_task.shape[0]\n",
    "print(f\"Linear SVM Accuracy: {acc}\")"
   ]
  },
  {
   "cell_type": "code",
   "execution_count": 15,
   "id": "27f7ec6c-c181-47e3-a63d-304af037d039",
   "metadata": {},
   "outputs": [
    {
     "name": "stdout",
     "output_type": "stream",
     "text": [
      "RBF SVM Accuracy: 0.8379970544918999\n"
     ]
    }
   ],
   "source": [
    "linear_svm = SVC(kernel=\"rbf\")\n",
    "linear_svm.fit(train_source_X, train_source_y_task)\n",
    "pred_y_task = linear_svm.predict(test_target_X)\n",
    "acc = sum(pred_y_task == test_target_y_task) / pred_y_task.shape[0]\n",
    "print(f\"RBF SVM Accuracy: {acc}\")"
   ]
  }
 ],
 "metadata": {
  "kernelspec": {
   "display_name": "Python 3 (ipykernel)",
   "language": "python",
   "name": "python3"
  },
  "language_info": {
   "codemirror_mode": {
    "name": "ipython",
    "version": 3
   },
   "file_extension": ".py",
   "mimetype": "text/x-python",
   "name": "python",
   "nbconvert_exporter": "python",
   "pygments_lexer": "ipython3",
   "version": "3.8.8"
  }
 },
 "nbformat": 4,
 "nbformat_minor": 5
}
