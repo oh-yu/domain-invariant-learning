{
 "cells": [
  {
   "cell_type": "markdown",
   "id": "d2b67bcd-5b7a-4730-8567-fa85b45d3eb3",
   "metadata": {},
   "source": [
    "# Import Modules"
   ]
  },
  {
   "cell_type": "code",
   "execution_count": 1,
   "id": "63f2b61b-b0de-4497-8469-e084b81d4621",
   "metadata": {},
   "outputs": [],
   "source": [
    "import matplotlib.pyplot as plt\n",
    "import numpy as np\n",
    "import pandas as pd\n",
    "from sklearn.manifold import TSNE\n",
    "import torch\n",
    "from torch import nn\n",
    "from torch import optim\n",
    "\n",
    "import utils"
   ]
  },
  {
   "cell_type": "code",
   "execution_count": 2,
   "id": "f981ab7b-288d-4260-8a5b-5f0a60b8db7c",
   "metadata": {},
   "outputs": [],
   "source": [
    "device = torch.device(\"cuda\" if torch.cuda.is_available() else \"cpu\")"
   ]
  },
  {
   "cell_type": "markdown",
   "id": "ff2d7f7d-a0b4-4044-b6e4-936b398c1bfc",
   "metadata": {},
   "source": [
    "# Prepare Data"
   ]
  },
  {
   "cell_type": "code",
   "execution_count": 3,
   "id": "3d24c407-d1b8-41b3-85fb-a0b7d9fc607e",
   "metadata": {},
   "outputs": [],
   "source": [
    "source_X = pd.read_csv(\"./data/1_X_train.csv\").values\n",
    "target_X = pd.read_csv(\"./data/2_X_train.csv\").values\n",
    "\n",
    "source_y_task = pd.read_csv(\"./data/1_Y_train.csv\").values.reshape(-1)\n",
    "target_y_task = pd.read_csv(\"./data/2_Y_train.csv\").values.reshape(-1)"
   ]
  },
  {
   "cell_type": "code",
   "execution_count": 4,
   "id": "f8f9414e-a717-4180-b863-3883a6f5e890",
   "metadata": {},
   "outputs": [],
   "source": [
    "source_loader, target_loader, source_y_task, source_X, target_X, target_y_task = utils.get_loader(source_X, target_X, source_y_task, target_y_task)"
   ]
  },
  {
   "cell_type": "markdown",
   "id": "61ad5c83-498c-4252-baba-e8c08372f64c",
   "metadata": {},
   "source": [
    "# Instantiate Feature Extractor, Domain Classifier, Task Classifier"
   ]
  },
  {
   "cell_type": "code",
   "execution_count": 5,
   "id": "192d8628-1c4e-4f74-85e6-d7eba998ca21",
   "metadata": {},
   "outputs": [],
   "source": [
    "hidden_size = 10\n",
    "num_domains = 1\n",
    "num_classes = 1\n",
    "dropout_ratio = 0.5\n",
    "\n",
    "feature_extractor = utils.Encoder(input_size=source_X.shape[1], output_size=hidden_size).to(device)\n",
    "domain_classifier = utils.Decoder(input_size=hidden_size, output_size=num_domains).to(device)\n",
    "task_classifier = utils.Decoder(input_size=hidden_size, output_size=num_classes).to(device)"
   ]
  },
  {
   "cell_type": "code",
   "execution_count": 6,
   "id": "7623670c-0b26-40a8-873a-6fff651b12a1",
   "metadata": {},
   "outputs": [],
   "source": [
    "learning_rate = 0.001\n",
    "\n",
    "criterion = nn.BCELoss()\n",
    "feature_optimizer = optim.Adam(feature_extractor.parameters(), lr=learning_rate)\n",
    "domain_optimizer = optim.Adam(domain_classifier.parameters(), lr=learning_rate)\n",
    "task_optimizer = optim.Adam(task_classifier.parameters(), lr=learning_rate)"
   ]
  },
  {
   "cell_type": "markdown",
   "id": "482826e7-85ae-45f9-b3e3-3d28ac581741",
   "metadata": {},
   "source": [
    "# Domain Invariant Learning"
   ]
  },
  {
   "cell_type": "code",
   "execution_count": 7,
   "id": "c9d2a393-56b5-4351-8f36-d30d68f44156",
   "metadata": {},
   "outputs": [],
   "source": [
    "num_epochs = 1000"
   ]
  },
  {
   "cell_type": "code",
   "execution_count": 8,
   "id": "7f4215d1-b6fe-432b-a90e-da560b6cf0c9",
   "metadata": {},
   "outputs": [
    {
     "data": {
      "image/png": "[encoded data removed]",
      "text/plain": [
       "<Figure size 432x288 with 1 Axes>"
      ]
     },
     "metadata": {
      "needs_background": "light"
     },
     "output_type": "display_data"
    }
   ],
   "source": [
    "feature_extractor, task_classifier = utils.fit(source_loader, target_loader, target_X, target_y_task,\n",
    "                                               feature_extractor, domain_classifier, task_classifier, criterion,\n",
    "                                               feature_optimizer, domain_optimizer, task_optimizer, num_epochs=num_epochs)"
   ]
  },
  {
   "cell_type": "markdown",
   "id": "be64948f-8e19-40bb-9d31-3a52378a4275",
   "metadata": {},
   "source": [
    "# Domain Adaptation Accuracy"
   ]
  },
  {
   "cell_type": "code",
   "execution_count": 9,
   "id": "022fdb6b-80da-4f34-a4bb-a616722fd018",
   "metadata": {},
   "outputs": [
    {
     "name": "stdout",
     "output_type": "stream",
     "text": [
      "Accuracy:0.5899234414100647\n"
     ]
    }
   ],
   "source": [
    "target_feature_eval = feature_extractor(target_X)\n",
    "pred_y_task = task_classifier(target_feature_eval)\n",
    "pred_y_task = torch.sigmoid(pred_y_task).reshape(-1)\n",
    "pred_y_task = pred_y_task > 0.5\n",
    "\n",
    "acc = sum(pred_y_task == target_y_task) / target_y_task.shape[0]\n",
    "print(f\"Accuracy:{acc}\")"
   ]
  },
  {
   "cell_type": "markdown",
   "id": "998239cc-d0ac-45ce-a4da-e0ec59ec462f",
   "metadata": {},
   "source": [
    "# Without Adaptation"
   ]
  },
  {
   "cell_type": "code",
   "execution_count": 10,
   "id": "34eb1570-343c-44f5-bb87-672788f38268",
   "metadata": {},
   "outputs": [],
   "source": [
    "task_classifier = utils.Decoder(input_size=source_X.shape[1], output_size=num_classes).to(device)\n",
    "task_optimizer = optim.Adam(task_classifier.parameters(), lr=learning_rate)"
   ]
  },
  {
   "cell_type": "code",
   "execution_count": 11,
   "id": "39f7a737-d12c-4946-9ae3-23e6165a5ef5",
   "metadata": {},
   "outputs": [],
   "source": [
    "task_classifier = utils.fit_task_classifier(source_loader, task_classifier, task_optimizer, criterion, num_epochs)"
   ]
  },
  {
   "cell_type": "code",
   "execution_count": 12,
   "id": "6ea1b5c0-2daa-44b2-af4d-2c1ea6e5287f",
   "metadata": {},
   "outputs": [
    {
     "name": "stdout",
     "output_type": "stream",
     "text": [
      "Without Adaptation Accuracy:0.4100765287876129\n"
     ]
    }
   ],
   "source": [
    "pred_y_task = task_classifier(target_X)\n",
    "pred_y_task = torch.sigmoid(pred_y_task).reshape(-1)\n",
    "pred_y_task = pred_y_task > 0.5\n",
    "acc = sum(pred_y_task == target_y_task) / target_y_task.shape[0]\n",
    "print(f\"Without Adaptation Accuracy:{acc}\")"
   ]
  },
  {
   "cell_type": "markdown",
   "id": "e8086c5b-0974-4e2c-8b0e-9e1119b1f093",
   "metadata": {},
   "source": [
    "# t-SNE Visualization for Extracted Feature"
   ]
  },
  {
   "cell_type": "code",
   "execution_count": null,
   "id": "7346f6d3-693f-4439-a587-c3b5bb114d88",
   "metadata": {},
   "outputs": [],
   "source": [
    "utils.visualize_tSNE(target_feature_eval, source_X)"
   ]
  }
 ],
 "metadata": {
  "kernelspec": {
   "display_name": "Python 3 (ipykernel)",
   "language": "python",
   "name": "python3"
  },
  "language_info": {
   "codemirror_mode": {
    "name": "ipython",
    "version": 3
   },
   "file_extension": ".py",
   "mimetype": "text/x-python",
   "name": "python",
   "nbconvert_exporter": "python",
   "pygments_lexer": "ipython3",
   "version": "3.8.8"
  }
 },
 "nbformat": 4,
 "nbformat_minor": 5
}
