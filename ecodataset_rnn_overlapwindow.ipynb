{
 "cells": [
  {
   "cell_type": "markdown",
   "id": "f781f7d8-9dae-40f4-848c-00e57c61b6a9",
   "metadata": {},
   "source": [
    "# Import Modules"
   ]
  },
  {
   "cell_type": "code",
   "execution_count": 2,
   "id": "8cc210c5-8ea7-4645-98f0-b8a300f62908",
   "metadata": {},
   "outputs": [],
   "source": [
    "import pandas as pd\n",
    "from sklearn import preprocessing\n",
    "import torch\n",
    "from torch import nn\n",
    "from torch import optim\n",
    "\n",
    "import utils"
   ]
  },
  {
   "cell_type": "code",
   "execution_count": 6,
   "id": "fcb7d023-46e0-4ca1-90d8-f499ed39ce83",
   "metadata": {},
   "outputs": [],
   "source": [
    "device = torch.device(\"cuda\" if torch.cuda.is_available() else \"cpu\")"
   ]
  },
  {
   "cell_type": "markdown",
   "id": "6414abd7-31b4-448d-9b4a-94e142e8741f",
   "metadata": {},
   "source": [
    "# Prepare Data"
   ]
  },
  {
   "cell_type": "code",
   "execution_count": 7,
   "id": "bbcaa018-cdf1-415d-bae3-e70b7092a9d4",
   "metadata": {},
   "outputs": [],
   "source": [
    "source_X = pd.read_csv(\"./deep_occupancy_detection/data/4_X_train.csv\").values\n",
    "target_X = pd.read_csv(\"./deep_occupancy_detection/data/2_X_train.csv\").values\n",
    "source_y_task = pd.read_csv(\"./deep_occupancy_detection/data/4_Y_train.csv\").values.reshape(-1)\n",
    "target_y_task = pd.read_csv(\"./deep_occupancy_detection/data/2_Y_train.csv\").values.reshape(-1)\n",
    "\n",
    "scaler = preprocessing.StandardScaler()\n",
    "source_X = scaler.fit_transform(source_X)\n",
    "target_X = scaler.fit_transform(target_X)"
   ]
  },
  {
   "cell_type": "code",
   "execution_count": 8,
   "id": "42efa320-c9be-43d6-8495-941835ea4670",
   "metadata": {},
   "outputs": [],
   "source": [
    "source_X, source_y_task = utils.apply_sliding_window(source_X, source_y_task, filter_len=3)\n",
    "target_X, target_y_task = utils.apply_sliding_window(target_X, target_y_task, filter_len=3)\n",
    "\n",
    "train_source_X, _, _, train_source_y_task, _, _ = utils.train_val_test_split(source_X, source_y_task)\n",
    "train_target_X, _, test_target_X, train_target_y_task, _, test_target_y_task = utils.train_val_test_split(target_X, target_y_task)\n",
    "# TODO: test_target_X, test_target_y_task should be used in evaluation"
   ]
  },
  {
   "cell_type": "code",
   "execution_count": 9,
   "id": "525043b2-daaa-4d07-b63f-c9f3e9adecd8",
   "metadata": {},
   "outputs": [],
   "source": [
    "source_loader, target_loader, train_source_y_task, train_source_X, train_target_X, train_target_y_task = utils.get_loader(train_source_X, train_target_X, train_source_y_task, train_target_y_task)"
   ]
  },
  {
   "cell_type": "markdown",
   "id": "ebfff02b-830c-48e8-b17e-6fd154855dfd",
   "metadata": {},
   "source": [
    "# Instantiate Feature Extractor, Domain Classifier, Task Classifier"
   ]
  },
  {
   "cell_type": "code",
   "execution_count": 18,
   "id": "4c236a97-cc57-4804-a225-3cb3b3ef9623",
   "metadata": {},
   "outputs": [],
   "source": [
    "class ManyToOneRNN(nn.Module):\n",
    "    def __init__(self, input_size, hidden_size, num_layers):\n",
    "        super().__init__()\n",
    "        self.rnn = nn.LSTM(input_size, hidden_size, num_layers, batch_first=True)\n",
    "    def forward(self, x):\n",
    "        _, (x, _) = self.rnn(x)\n",
    "        return x"
   ]
  },
  {
   "cell_type": "code",
   "execution_count": 19,
   "id": "223680f2-a45e-4d1f-9f88-3e90c702cd23",
   "metadata": {},
   "outputs": [],
   "source": [
    "rnn = ManyToOneRNN(input_size=13, hidden_size=10, num_layers=1).to(device)"
   ]
  },
  {
   "cell_type": "code",
   "execution_count": 25,
   "id": "6c82bdc9-c3fe-488e-a891-b2f04416e752",
   "metadata": {},
   "outputs": [
    {
     "data": {
      "text/plain": [
       "torch.Size([458, 3, 13])"
      ]
     },
     "execution_count": 25,
     "metadata": {},
     "output_type": "execute_result"
    }
   ],
   "source": [
    "train_source_X.shape"
   ]
  },
  {
   "cell_type": "code",
   "execution_count": 24,
   "id": "995b3423-4092-40c0-9337-573fe977645d",
   "metadata": {},
   "outputs": [
    {
     "data": {
      "text/plain": [
       "torch.Size([1, 458, 10])"
      ]
     },
     "execution_count": 24,
     "metadata": {},
     "output_type": "execute_result"
    }
   ],
   "source": [
    "rnn(train_source_X).shape"
   ]
  }
 ],
 "metadata": {
  "kernelspec": {
   "display_name": "Python 3 (ipykernel)",
   "language": "python",
   "name": "python3"
  },
  "language_info": {
   "codemirror_mode": {
    "name": "ipython",
    "version": 3
   },
   "file_extension": ".py",
   "mimetype": "text/x-python",
   "name": "python",
   "nbconvert_exporter": "python",
   "pygments_lexer": "ipython3",
   "version": "3.8.8"
  }
 },
 "nbformat": 4,
 "nbformat_minor": 5
}
