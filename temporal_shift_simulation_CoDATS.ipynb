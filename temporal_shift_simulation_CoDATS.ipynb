{
 "cells": [
  {
   "cell_type": "code",
   "execution_count": 23,
   "id": "facaa4c5-9c1e-49a4-83ee-3d1ed908fbad",
   "metadata": {},
   "outputs": [],
   "source": [
    "import matplotlib.pyplot as plt\n",
    "import pandas as pd\n",
    "from sklearn import preprocessing\n",
    "from sklearn.model_selection import train_test_split\n",
    "import torch\n",
    "from torch import nn\n",
    "from torch import optim\n",
    "\n",
    "from utils import utils\n",
    "DEVICE = torch.device(\"cuda\" if torch.cuda.is_available() else \"cpu\")"
   ]
  },
  {
   "cell_type": "code",
   "execution_count": 24,
   "id": "44161e9d-b778-4019-8598-832a5db2fd19",
   "metadata": {},
   "outputs": [],
   "source": [
    "class Codats:\n",
    "    \"\"\"\n",
    "    CoDATS model https://arxiv.org/abs/2005.10996\n",
    "    \"\"\"\n",
    "    def __init__(self, input_size: int, hidden_size: int, lr: float, num_epochs: int, num_domains: int = 1, num_classes: int = 1) -> None:\n",
    "        self.feature_extractor = utils.Conv1d(input_size=input_size).to(DEVICE)\n",
    "        self.domain_classifier = utils.Decoder(input_size=hidden_size, output_size=num_domains).to(DEVICE)\n",
    "        self.task_classifier = utils.Decoder(input_size=hidden_size, output_size=num_classes).to(DEVICE)\n",
    "        self.criterion = nn.BCELoss()\n",
    "\n",
    "        self.feature_optimizer = optim.Adam(self.feature_extractor.parameters(), lr=lr)\n",
    "        self.domain_optimizer = optim.Adam(self.domain_classifier.parameters(), lr=lr)\n",
    "        self.task_optimizer = optim.Adam(self.task_classifier.parameters(), lr=lr)\n",
    "        self.num_epochs = num_epochs\n",
    "\n",
    "    def fit(self, source_loader: torch.utils.data.dataloader.DataLoader, target_loader: torch.utils.data.dataloader.DataLoader,\n",
    "            test_target_X: torch.Tensor, test_target_y_task: torch.Tensor) -> None:\n",
    "        self.feature_extractor, self.task_classifier, _ = utils.fit(\n",
    "            source_loader, target_loader, test_target_X, test_target_y_task,\n",
    "            self.feature_extractor, self.domain_classifier, self.task_classifier, self.criterion,\n",
    "            self.feature_optimizer, self.domain_optimizer, self.task_optimizer,\n",
    "            num_epochs=self.num_epochs, do_plot=True\n",
    "        )\n",
    "\n",
    "    def predict(self, x: torch.Tensor) -> torch.Tensor:\n",
    "        pred_y_task = self.task_classifier(self.feature_extractor(x))\n",
    "        pred_y_task = torch.sigmoid(pred_y_task).reshape(-1)\n",
    "        return pred_y_task"
   ]
  },
  {
   "cell_type": "code",
   "execution_count": 36,
   "id": "21d684d2-995b-4cea-8f38-856527c168c1",
   "metadata": {},
   "outputs": [],
   "source": [
    "source_idx = 2\n",
    "season_idx = 0\n",
    "\n",
    "train_source_X = pd.read_csv(f\"./deep_occupancy_detection/data/{source_idx}_X_train.csv\")\n",
    "train_source_y_task = pd.read_csv(f\"./deep_occupancy_detection/data/{source_idx}_Y_train.csv\")[train_source_X.Season == season_idx]\n",
    "train_source_X = train_source_X[train_source_X.Season == season_idx]\n",
    "\n",
    "target_prime_X = train_source_X.copy()\n",
    "tmp_list = [i for i in range(18, 44, 1)]\n",
    "tmp_list += [12, 13, 14, 15, 16, 17]\n",
    "tmp_list = tmp_list * int(train_source_X.shape[0]/32)\n",
    "target_prime_X[\"Time\"] = tmp_list\n",
    "target_prime_y_task = train_source_y_task\n",
    "\n",
    "train_source_y_task = train_source_y_task.values.reshape(-1)\n",
    "target_prime_y_task = target_prime_y_task.values.reshape(-1)"
   ]
  },
  {
   "cell_type": "code",
   "execution_count": 37,
   "id": "ec1e005d-34cb-4198-b6f4-d59e8c21f92d",
   "metadata": {},
   "outputs": [
    {
     "data": {
      "text/html": [
       "<div>\n",
       "<style scoped>\n",
       "    .dataframe tbody tr th:only-of-type {\n",
       "        vertical-align: middle;\n",
       "    }\n",
       "\n",
       "    .dataframe tbody tr th {\n",
       "        vertical-align: top;\n",
       "    }\n",
       "\n",
       "    .dataframe thead th {\n",
       "        text-align: right;\n",
       "    }\n",
       "</style>\n",
       "<table border=\"1\" class=\"dataframe\">\n",
       "  <thead>\n",
       "    <tr style=\"text-align: right;\">\n",
       "      <th></th>\n",
       "      <th>Energy</th>\n",
       "      <th>Season</th>\n",
       "      <th>Time</th>\n",
       "    </tr>\n",
       "  </thead>\n",
       "  <tbody>\n",
       "    <tr>\n",
       "      <th>2176</th>\n",
       "      <td>168649.947</td>\n",
       "      <td>0</td>\n",
       "      <td>12</td>\n",
       "    </tr>\n",
       "    <tr>\n",
       "      <th>2177</th>\n",
       "      <td>169192.356</td>\n",
       "      <td>0</td>\n",
       "      <td>13</td>\n",
       "    </tr>\n",
       "    <tr>\n",
       "      <th>2178</th>\n",
       "      <td>168560.052</td>\n",
       "      <td>0</td>\n",
       "      <td>14</td>\n",
       "    </tr>\n",
       "    <tr>\n",
       "      <th>2179</th>\n",
       "      <td>130375.163</td>\n",
       "      <td>0</td>\n",
       "      <td>15</td>\n",
       "    </tr>\n",
       "    <tr>\n",
       "      <th>2180</th>\n",
       "      <td>132788.967</td>\n",
       "      <td>0</td>\n",
       "      <td>16</td>\n",
       "    </tr>\n",
       "    <tr>\n",
       "      <th>...</th>\n",
       "      <td>...</td>\n",
       "      <td>...</td>\n",
       "      <td>...</td>\n",
       "    </tr>\n",
       "    <tr>\n",
       "      <th>3131</th>\n",
       "      <td>996765.945</td>\n",
       "      <td>0</td>\n",
       "      <td>39</td>\n",
       "    </tr>\n",
       "    <tr>\n",
       "      <th>3132</th>\n",
       "      <td>1305499.967</td>\n",
       "      <td>0</td>\n",
       "      <td>40</td>\n",
       "    </tr>\n",
       "    <tr>\n",
       "      <th>3133</th>\n",
       "      <td>886801.848</td>\n",
       "      <td>0</td>\n",
       "      <td>41</td>\n",
       "    </tr>\n",
       "    <tr>\n",
       "      <th>3134</th>\n",
       "      <td>991335.091</td>\n",
       "      <td>0</td>\n",
       "      <td>42</td>\n",
       "    </tr>\n",
       "    <tr>\n",
       "      <th>3135</th>\n",
       "      <td>660363.485</td>\n",
       "      <td>0</td>\n",
       "      <td>43</td>\n",
       "    </tr>\n",
       "  </tbody>\n",
       "</table>\n",
       "<p>960 rows × 3 columns</p>\n",
       "</div>"
      ],
      "text/plain": [
       "           Energy  Season  Time\n",
       "2176   168649.947       0    12\n",
       "2177   169192.356       0    13\n",
       "2178   168560.052       0    14\n",
       "2179   130375.163       0    15\n",
       "2180   132788.967       0    16\n",
       "...           ...     ...   ...\n",
       "3131   996765.945       0    39\n",
       "3132  1305499.967       0    40\n",
       "3133   886801.848       0    41\n",
       "3134   991335.091       0    42\n",
       "3135   660363.485       0    43\n",
       "\n",
       "[960 rows x 3 columns]"
      ]
     },
     "execution_count": 37,
     "metadata": {},
     "output_type": "execute_result"
    }
   ],
   "source": [
    "train_source_X"
   ]
  },
  {
   "cell_type": "code",
   "execution_count": 38,
   "id": "a9a52afd-21cc-4929-90ad-143929238a62",
   "metadata": {},
   "outputs": [],
   "source": [
    "target_X, target_y_task = target_prime_X, target_prime_y_task"
   ]
  },
  {
   "cell_type": "code",
   "execution_count": 39,
   "id": "57036a60-9267-473d-9d6d-79bcca6ece53",
   "metadata": {},
   "outputs": [
    {
     "data": {
      "image/png": "[encoded data removed]",
      "text/plain": [
       "<Figure size 432x288 with 1 Axes>"
      ]
     },
     "metadata": {
      "needs_background": "light"
     },
     "output_type": "display_data"
    },
    {
     "data": {
      "image/png": "[encoded data removed]",
      "text/plain": [
       "<Figure size 432x288 with 1 Axes>"
      ]
     },
     "metadata": {
      "needs_background": "light"
     },
     "output_type": "display_data"
    }
   ],
   "source": [
    "scaler = preprocessing.StandardScaler()\n",
    "train_source_X = scaler.fit_transform(train_source_X)\n",
    "target_X = scaler.fit_transform(target_X)\n",
    "train_source_X, train_source_y_task = utils.apply_sliding_window(train_source_X, train_source_y_task, filter_len=6)\n",
    "target_X, target_y_task = utils.apply_sliding_window(target_X, target_y_task, filter_len=6)\n",
    "train_target_X, test_target_X, train_target_y_task, test_target_y_task = train_test_split(target_X, target_y_task, test_size=0.5, shuffle=False)\n",
    "source_loader, target_loader, _, _, _, _ = utils.get_loader(train_source_X, train_target_X, train_source_y_task, train_target_y_task, shuffle=True)\n",
    "# TODO: Update utils.get_loader's docstring\n",
    "\n",
    "test_target_X = torch.tensor(test_target_X, dtype=torch.float32)\n",
    "test_target_y_task = torch.tensor(test_target_y_task, dtype=torch.float32)\n",
    "test_target_X = test_target_X.to(DEVICE)\n",
    "test_target_y_task = test_target_y_task.to(DEVICE)\n",
    "\n",
    "\n",
    "## CoDATS fit, predict\n",
    "codats = Codats(input_size=train_source_X.shape[2], hidden_size=128, lr=0.0001, num_epochs=300)\n",
    "codats.fit(source_loader, target_loader, test_target_X, test_target_y_task)\n",
    "pred_y_task = codats.predict(test_target_X)\n",
    "\n",
    "pred_y_task = pred_y_task > 0.5\n",
    "acc = sum(pred_y_task == test_target_y_task) / test_target_y_task.shape[0]"
   ]
  },
  {
   "cell_type": "code",
   "execution_count": 40,
   "id": "754f510a-2d99-4048-bb3f-4fd7296de0fc",
   "metadata": {},
   "outputs": [
    {
     "name": "stdout",
     "output_type": "stream",
     "text": [
      "Target Prime Accuracy: 0.7573221325874329\n"
     ]
    }
   ],
   "source": [
    "print(f\"Target Prime Accuracy: {acc}\")"
   ]
  }
 ],
 "metadata": {
  "kernelspec": {
   "display_name": "Python 3 (ipykernel)",
   "language": "python",
   "name": "python3"
  },
  "language_info": {
   "codemirror_mode": {
    "name": "ipython",
    "version": 3
   },
   "file_extension": ".py",
   "mimetype": "text/x-python",
   "name": "python",
   "nbconvert_exporter": "python",
   "pygments_lexer": "ipython3",
   "version": "3.8.8"
  }
 },
 "nbformat": 4,
 "nbformat_minor": 5
}
