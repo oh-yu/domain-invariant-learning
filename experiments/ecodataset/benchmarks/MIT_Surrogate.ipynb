{
 "cells": [
  {
   "cell_type": "code",
   "execution_count": 3,
   "metadata": {},
   "outputs": [],
   "source": [
    "import numpy as np\n",
    "from sklearn.model_selection import KFold\n",
    "from sklearn.tree import DecisionTreeClassifier\n",
    "from sklearn.metrics import log_loss\n",
    "\n",
    "class SurrogateLossLearner:\n",
    "    def __init__(self):\n",
    "        pass\n",
    "    def predict(self, df, household_idx):\n",
    "        # Line1\n",
    "        df = self._prior(df, household_idx)\n",
    "        print(\"line1 done\")\n",
    "\n",
    "        # Line2\n",
    "        scores = []\n",
    "        params = [mex_depth for mex_depth in range(2, 100, 5)]\n",
    "        models = []\n",
    "        for param in params:\n",
    "            score = self._cv(df, param)\n",
    "            scores.append(score)\n",
    "        print(\"line2 done\")\n",
    "        # Line3\n",
    "        best_idx = np.argmin(scores)\n",
    "        best_model = DecisionTreeClassifier(max_depth=params[best_idx])\n",
    "        best_model.fit(df.Energy.values.reshape(-1, 1), df.preds_time)\n",
    "        print(\"line3 done\")\n",
    "        # Line4, 5\n",
    "        preds_new = best_model.predict(df.Energy.values.reshape(-1, 1))\n",
    "        df[\"preds_new\"] = preds_new\n",
    "        print(\"line4,5 done\")\n",
    "        return df\n",
    "\n",
    "\n",
    "    def _cv(self, df, param):\n",
    "        kf = KFold(n_splits=5, random_state=0, shuffle=True)\n",
    "        losses = []\n",
    "        for train_idx, test_idx in kf.split(df):\n",
    "            # split data into train, test\n",
    "\n",
    "            train_x, test_x = df.Energy.values[train_idx], df.Energy.values[test_idx]\n",
    "            # TODO: whether or not use Energy only?\n",
    "            train_y, test_y = df.preds_time.values[train_idx], df.preds_time.values[test_idx]\n",
    "\n",
    "            # training\n",
    "            model_energy = DecisionTreeClassifier(max_depth=param)\n",
    "            model_energy.fit(train_x.reshape(-1, 1), train_y)\n",
    "            # test\n",
    "            preds = model_energy.predict_proba(test_x.reshape(-1, 1))\n",
    "            preds = preds[:, 1]\n",
    "            # Loss\n",
    "            loss = self._surrogate_loss(test_y, preds)\n",
    "            losses.append(loss)\n",
    "        return np.mean(losses)\n",
    "    def _surrogate_loss(self, y, preds):\n",
    "        raw_neg = sum(y[preds==0]==1)/preds.shape[0]\n",
    "        raw_pos = sum(y[preds==1]==0)/preds.shape[0]\n",
    "        det = 1-raw_pos-raw_neg\n",
    "\n",
    "        conditional_noise_rate_neg = (1-sum(y[preds==1]==1)/preds.shape[0]+sum(y[preds==0]==0)/preds.shape[0])/2\n",
    "        loss_pos = log_loss(y, preds)\n",
    "        conditional_noise_rate = (1-raw_pos+raw_neg)/2\n",
    "        loss_neg = log_loss(abs(-y), preds)\n",
    "        num = (1-conditional_noise_rate_neg)*loss_pos-conditional_noise_rate*loss_neg\n",
    "        return num / det\n",
    "\n",
    "    def _prior(self, df, household_idx=1):\n",
    "        if household_idx in [2, 4, 5]:\n",
    "            preds_time = []\n",
    "            for _, row in df.iterrows():\n",
    "                if (row.Time >= 18) & (row.Time <= 40):\n",
    "                    preds_time.append(0)\n",
    "                else:\n",
    "                    preds_time.append(1)\n",
    "            df[\"preds_time\"] = preds_time\n",
    "        elif household_idx in [1, 3]:\n",
    "            preds_time = []\n",
    "            for _, row in df.iterrows():\n",
    "                if (row[\"Time\"] >= 24) & (row[\"Time\"] <= 28):\n",
    "                    preds_time.append(0)\n",
    "                else:\n",
    "                    preds_time.append(1)\n",
    "            df[\"preds_time\"] = preds_time\n",
    "        return df"
   ]
  },
  {
   "cell_type": "code",
   "execution_count": 4,
   "metadata": {},
   "outputs": [],
   "source": [
    "import pandas as pd\n",
    "target_idx = 3\n",
    "summer_idx = 0\n",
    "target_X = pd.read_csv(f\"../../../deep_occupancy_detection/data/{target_idx}_X_train.csv\")\n",
    "target_y_task = pd.read_csv(f\"../../../deep_occupancy_detection/data/{target_idx}_Y_train.csv\")[target_X.Season==summer_idx]\n",
    "target_X = target_X[target_X.Season==summer_idx]\n",
    "target_X[\"Time\"] = [i for i in range(12, 44, 1)]*int(target_X.shape[0]/32)"
   ]
  },
  {
   "cell_type": "code",
   "execution_count": 5,
   "metadata": {},
   "outputs": [
    {
     "name": "stdout",
     "output_type": "stream",
     "text": [
      "line1 done\n"
     ]
    },
    {
     "name": "stdout",
     "output_type": "stream",
     "text": [
      "line2 done\n",
      "line3 done\n",
      "line4,5 done\n"
     ]
    }
   ],
   "source": [
    "surrogate_leaner = SurrogateLossLearner()\n",
    "new_df = surrogate_leaner.predict(df=target_X, household_idx=target_idx)"
   ]
  },
  {
   "cell_type": "code",
   "execution_count": 6,
   "metadata": {},
   "outputs": [
    {
     "data": {
      "text/plain": [
       "[<matplotlib.lines.Line2D at 0x7fb77e54dee0>]"
      ]
     },
     "execution_count": 6,
     "metadata": {},
     "output_type": "execute_result"
    },
    {
     "data": {
      "image/png": "[encoded data removed]",
      "text/plain": [
       "<Figure size 1080x216 with 1 Axes>"
      ]
     },
     "metadata": {
      "needs_background": "light"
     },
     "output_type": "display_data"
    }
   ],
   "source": [
    "import matplotlib.pyplot as plt\n",
    "plt.figure(figsize=(15, 3))\n",
    "plt.plot(new_df[\"preds_new\"])\n",
    "plt.plot(target_y_task)"
   ]
  },
  {
   "cell_type": "code",
   "execution_count": 7,
   "metadata": {},
   "outputs": [
    {
     "data": {
      "text/plain": [
       "0.6840277777777778"
      ]
     },
     "execution_count": 7,
     "metadata": {},
     "output_type": "execute_result"
    }
   ],
   "source": [
    "sum(new_df[\"preds_new\"].values.reshape(-1) == target_y_task.Occupancy.values.reshape(-1))/new_df.shape[0]"
   ]
  }
 ],
 "metadata": {
  "kernelspec": {
   "display_name": "openai",
   "language": "python",
   "name": "python3"
  },
  "language_info": {
   "codemirror_mode": {
    "name": "ipython",
    "version": 3
   },
   "file_extension": ".py",
   "mimetype": "text/x-python",
   "name": "python",
   "nbconvert_exporter": "python",
   "pygments_lexer": "ipython3",
   "version": "3.8.8"
  }
 },
 "nbformat": 4,
 "nbformat_minor": 2
}
