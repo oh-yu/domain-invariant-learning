{
 "cells": [
  {
   "cell_type": "code",
   "execution_count": 61,
   "metadata": {},
   "outputs": [],
   "source": [
    "import pandas as pd\n",
    "from sklearn import preprocessing\n",
    "import torch\n",
    "from torch import optim\n",
    "\n",
    "from utils import utils\n",
    "DEVICE = utils.DEVICE"
   ]
  },
  {
   "cell_type": "markdown",
   "metadata": {},
   "source": [
    "# 0. Prep Data"
   ]
  },
  {
   "cell_type": "code",
   "execution_count": 62,
   "metadata": {},
   "outputs": [],
   "source": [
    "source_idx = 3\n",
    "target_idx = 1\n",
    "winter_idx = 0\n",
    "summer_idx = 0\n",
    "\n",
    "train_source_X = pd.read_csv(f\"./deep_occupancy_detection/data/{source_idx}_X_train.csv\")\n",
    "target_X = pd.read_csv(f\"./deep_occupancy_detection/data/{target_idx}_X_train.csv\")\n",
    "train_source_y_task = pd.read_csv(f\"./deep_occupancy_detection/data/{source_idx}_Y_train.csv\")[train_source_X.Season==winter_idx].values.reshape(-1)\n",
    "target_y_task = pd.read_csv(f\"./deep_occupancy_detection/data/{target_idx}_Y_train.csv\")[target_X.Season==summer_idx].values.reshape(-1)\n",
    "train_source_X = train_source_X[train_source_X.Season==winter_idx]\n",
    "target_X = target_X[target_X.Season==summer_idx]"
   ]
  },
  {
   "cell_type": "code",
   "execution_count": 63,
   "metadata": {},
   "outputs": [
    {
     "data": {
      "text/html": [
       "<div>\n",
       "<style scoped>\n",
       "    .dataframe tbody tr th:only-of-type {\n",
       "        vertical-align: middle;\n",
       "    }\n",
       "\n",
       "    .dataframe tbody tr th {\n",
       "        vertical-align: top;\n",
       "    }\n",
       "\n",
       "    .dataframe thead th {\n",
       "        text-align: right;\n",
       "    }\n",
       "</style>\n",
       "<table border=\"1\" class=\"dataframe\">\n",
       "  <thead>\n",
       "    <tr style=\"text-align: right;\">\n",
       "      <th></th>\n",
       "      <th>Energy</th>\n",
       "      <th>Season</th>\n",
       "      <th>Time</th>\n",
       "    </tr>\n",
       "  </thead>\n",
       "  <tbody>\n",
       "    <tr>\n",
       "      <th>1504</th>\n",
       "      <td>67363.495</td>\n",
       "      <td>0</td>\n",
       "      <td>12</td>\n",
       "    </tr>\n",
       "    <tr>\n",
       "      <th>1505</th>\n",
       "      <td>237118.680</td>\n",
       "      <td>0</td>\n",
       "      <td>13</td>\n",
       "    </tr>\n",
       "    <tr>\n",
       "      <th>1506</th>\n",
       "      <td>78601.300</td>\n",
       "      <td>0</td>\n",
       "      <td>14</td>\n",
       "    </tr>\n",
       "    <tr>\n",
       "      <th>1507</th>\n",
       "      <td>274467.298</td>\n",
       "      <td>0</td>\n",
       "      <td>15</td>\n",
       "    </tr>\n",
       "    <tr>\n",
       "      <th>1508</th>\n",
       "      <td>492557.058</td>\n",
       "      <td>0</td>\n",
       "      <td>16</td>\n",
       "    </tr>\n",
       "    <tr>\n",
       "      <th>...</th>\n",
       "      <td>...</td>\n",
       "      <td>...</td>\n",
       "      <td>...</td>\n",
       "    </tr>\n",
       "    <tr>\n",
       "      <th>2075</th>\n",
       "      <td>504342.309</td>\n",
       "      <td>0</td>\n",
       "      <td>39</td>\n",
       "    </tr>\n",
       "    <tr>\n",
       "      <th>2076</th>\n",
       "      <td>596620.374</td>\n",
       "      <td>0</td>\n",
       "      <td>40</td>\n",
       "    </tr>\n",
       "    <tr>\n",
       "      <th>2077</th>\n",
       "      <td>478971.234</td>\n",
       "      <td>0</td>\n",
       "      <td>41</td>\n",
       "    </tr>\n",
       "    <tr>\n",
       "      <th>2078</th>\n",
       "      <td>589670.944</td>\n",
       "      <td>0</td>\n",
       "      <td>42</td>\n",
       "    </tr>\n",
       "    <tr>\n",
       "      <th>2079</th>\n",
       "      <td>84713.475</td>\n",
       "      <td>0</td>\n",
       "      <td>43</td>\n",
       "    </tr>\n",
       "  </tbody>\n",
       "</table>\n",
       "<p>576 rows × 3 columns</p>\n",
       "</div>"
      ],
      "text/plain": [
       "          Energy  Season  Time\n",
       "1504   67363.495       0    12\n",
       "1505  237118.680       0    13\n",
       "1506   78601.300       0    14\n",
       "1507  274467.298       0    15\n",
       "1508  492557.058       0    16\n",
       "...          ...     ...   ...\n",
       "2075  504342.309       0    39\n",
       "2076  596620.374       0    40\n",
       "2077  478971.234       0    41\n",
       "2078  589670.944       0    42\n",
       "2079   84713.475       0    43\n",
       "\n",
       "[576 rows x 3 columns]"
      ]
     },
     "execution_count": 63,
     "metadata": {},
     "output_type": "execute_result"
    }
   ],
   "source": [
    "train_source_X"
   ]
  },
  {
   "cell_type": "code",
   "execution_count": 64,
   "metadata": {},
   "outputs": [
    {
     "data": {
      "text/html": [
       "<div>\n",
       "<style scoped>\n",
       "    .dataframe tbody tr th:only-of-type {\n",
       "        vertical-align: middle;\n",
       "    }\n",
       "\n",
       "    .dataframe tbody tr th {\n",
       "        vertical-align: top;\n",
       "    }\n",
       "\n",
       "    .dataframe thead th {\n",
       "        text-align: right;\n",
       "    }\n",
       "</style>\n",
       "<table border=\"1\" class=\"dataframe\">\n",
       "  <thead>\n",
       "    <tr style=\"text-align: right;\">\n",
       "      <th></th>\n",
       "      <th>Energy</th>\n",
       "      <th>Season</th>\n",
       "      <th>Time</th>\n",
       "    </tr>\n",
       "  </thead>\n",
       "  <tbody>\n",
       "    <tr>\n",
       "      <th>1248</th>\n",
       "      <td>227903.247</td>\n",
       "      <td>0</td>\n",
       "      <td>12</td>\n",
       "    </tr>\n",
       "    <tr>\n",
       "      <th>1249</th>\n",
       "      <td>310118.934</td>\n",
       "      <td>0</td>\n",
       "      <td>13</td>\n",
       "    </tr>\n",
       "    <tr>\n",
       "      <th>1250</th>\n",
       "      <td>371554.363</td>\n",
       "      <td>0</td>\n",
       "      <td>14</td>\n",
       "    </tr>\n",
       "    <tr>\n",
       "      <th>1251</th>\n",
       "      <td>851215.054</td>\n",
       "      <td>0</td>\n",
       "      <td>15</td>\n",
       "    </tr>\n",
       "    <tr>\n",
       "      <th>1252</th>\n",
       "      <td>731550.916</td>\n",
       "      <td>0</td>\n",
       "      <td>16</td>\n",
       "    </tr>\n",
       "    <tr>\n",
       "      <th>...</th>\n",
       "      <td>...</td>\n",
       "      <td>...</td>\n",
       "      <td>...</td>\n",
       "    </tr>\n",
       "    <tr>\n",
       "      <th>2715</th>\n",
       "      <td>749873.285</td>\n",
       "      <td>0</td>\n",
       "      <td>39</td>\n",
       "    </tr>\n",
       "    <tr>\n",
       "      <th>2716</th>\n",
       "      <td>2196655.709</td>\n",
       "      <td>0</td>\n",
       "      <td>40</td>\n",
       "    </tr>\n",
       "    <tr>\n",
       "      <th>2717</th>\n",
       "      <td>691079.162</td>\n",
       "      <td>0</td>\n",
       "      <td>41</td>\n",
       "    </tr>\n",
       "    <tr>\n",
       "      <th>2718</th>\n",
       "      <td>937151.981</td>\n",
       "      <td>0</td>\n",
       "      <td>42</td>\n",
       "    </tr>\n",
       "    <tr>\n",
       "      <th>2719</th>\n",
       "      <td>1992775.211</td>\n",
       "      <td>0</td>\n",
       "      <td>43</td>\n",
       "    </tr>\n",
       "  </tbody>\n",
       "</table>\n",
       "<p>1472 rows × 3 columns</p>\n",
       "</div>"
      ],
      "text/plain": [
       "           Energy  Season  Time\n",
       "1248   227903.247       0    12\n",
       "1249   310118.934       0    13\n",
       "1250   371554.363       0    14\n",
       "1251   851215.054       0    15\n",
       "1252   731550.916       0    16\n",
       "...           ...     ...   ...\n",
       "2715   749873.285       0    39\n",
       "2716  2196655.709       0    40\n",
       "2717   691079.162       0    41\n",
       "2718   937151.981       0    42\n",
       "2719  1992775.211       0    43\n",
       "\n",
       "[1472 rows x 3 columns]"
      ]
     },
     "execution_count": 64,
     "metadata": {},
     "output_type": "execute_result"
    }
   ],
   "source": [
    "target_X"
   ]
  },
  {
   "cell_type": "code",
   "execution_count": 65,
   "metadata": {},
   "outputs": [],
   "source": [
    "scaler = preprocessing.StandardScaler()\n",
    "train_source_X = scaler.fit_transform(train_source_X)\n",
    "target_X = scaler.fit_transform(target_X)\n",
    "\n",
    "train_source_X, train_source_y_task = utils.apply_sliding_window(train_source_X, train_source_y_task, filter_len=6)\n",
    "target_X, target_y_task = utils.apply_sliding_window(target_X, target_y_task, filter_len=6)"
   ]
  },
  {
   "cell_type": "code",
   "execution_count": 66,
   "metadata": {},
   "outputs": [],
   "source": [
    "source_loader, _, _, _, target_X, target_y_task = utils.get_loader(train_source_X, target_X, train_source_y_task, target_y_task, shuffle=True)"
   ]
  },
  {
   "cell_type": "code",
   "execution_count": 67,
   "metadata": {},
   "outputs": [],
   "source": [
    "test_thr = int(target_X.shape[0]/2)\n",
    "test_target_X = target_X[test_thr:]\n",
    "test_target_y_task = target_y_task[test_thr:]"
   ]
  },
  {
   "cell_type": "markdown",
   "metadata": {},
   "source": [
    "# 1. p(Y|X) Divergence\n",
    "## 1.1 Model Fit\n"
   ]
  },
  {
   "cell_type": "code",
   "execution_count": 68,
   "metadata": {},
   "outputs": [],
   "source": [
    "feature_extractor = utils.Conv1d(input_size=train_source_X.shape[2]).to(DEVICE)\n",
    "task_classifier = utils.Decoder(input_size=128, output_size=1).to(DEVICE)\n",
    "criterion = torch.nn.BCELoss()\n",
    "\n",
    "feature_optimizer = optim.Adam(feature_extractor.parameters(), lr=0.0001)\n",
    "task_optimizer = optim.Adam(task_classifier.parameters(), lr=0.0001)"
   ]
  },
  {
   "cell_type": "code",
   "execution_count": 69,
   "metadata": {},
   "outputs": [
    {
     "name": "stdout",
     "output_type": "stream",
     "text": [
      "Loss: 0.6759140491485596\n",
      "Loss: 0.22195851802825928\n"
     ]
    }
   ],
   "source": [
    "for epoch in range(100):\n",
    "    for source_data in source_loader:\n",
    "        source_X, source_y = source_data\n",
    "        source_y_task = source_y[:, 0]\n",
    "\n",
    "        source_feature = feature_extractor(source_X)\n",
    "        source_output = task_classifier(source_feature)\n",
    "        source_output = torch.sigmoid(source_output).reshape(-1)\n",
    "\n",
    "        loss = criterion(source_output, source_y_task)\n",
    "\n",
    "        feature_optimizer.zero_grad()\n",
    "        task_optimizer.zero_grad()\n",
    "        loss.backward()\n",
    "        feature_optimizer.step()\n",
    "        task_optimizer.step()\n",
    "    if epoch % 50 == 0:\n",
    "        print(f\"Loss: {loss.item()}\")"
   ]
  },
  {
   "cell_type": "markdown",
   "metadata": {},
   "source": [
    "## 1.2 Calc Accuracy for Target"
   ]
  },
  {
   "cell_type": "code",
   "execution_count": 70,
   "metadata": {},
   "outputs": [
    {
     "name": "stdout",
     "output_type": "stream",
     "text": [
      "Accuracy for Target: 0.8241308927536011\n"
     ]
    }
   ],
   "source": [
    "pred_y = task_classifier(feature_extractor(target_X))\n",
    "pred_y = torch.sigmoid(pred_y).reshape(-1)\n",
    "pred_y = pred_y > 0.5\n",
    "acc = sum(pred_y == target_y_task) / pred_y.shape[0]\n",
    "print(f\"Accuracy for Target: {acc}\")"
   ]
  }
 ],
 "metadata": {
  "kernelspec": {
   "display_name": "Python 3 (ipykernel)",
   "language": "python",
   "name": "python3"
  },
  "language_info": {
   "codemirror_mode": {
    "name": "ipython",
    "version": 3
   },
   "file_extension": ".py",
   "mimetype": "text/x-python",
   "name": "python",
   "nbconvert_exporter": "python",
   "pygments_lexer": "ipython3",
   "version": "3.8.8"
  }
 },
 "nbformat": 4,
 "nbformat_minor": 4
}
