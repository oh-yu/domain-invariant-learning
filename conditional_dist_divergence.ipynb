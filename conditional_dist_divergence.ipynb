{
 "cells": [
  {
   "cell_type": "code",
   "execution_count": 102,
   "metadata": {},
   "outputs": [],
   "source": [
    "import pandas as pd\n",
    "from sklearn import preprocessing\n",
    "import torch\n",
    "from torch import optim\n",
    "\n",
    "from utils import utils\n",
    "DEVICE = utils.DEVICE"
   ]
  },
  {
   "attachments": {},
   "cell_type": "markdown",
   "metadata": {},
   "source": [
    "# 0. Prep Data"
   ]
  },
  {
   "cell_type": "code",
   "execution_count": 103,
   "metadata": {},
   "outputs": [],
   "source": [
    "source_idx = 2\n",
    "target_idx = 3\n",
    "winter_idx = 0\n",
    "summer_idx = 0\n",
    "\n",
    "train_source_X = pd.read_csv(f\"./deep_occupancy_detection/data/{source_idx}_X_train.csv\")\n",
    "target_X = pd.read_csv(f\"./deep_occupancy_detection/data/{target_idx}_X_train.csv\")\n",
    "train_source_y_task = pd.read_csv(f\"./deep_occupancy_detection/data/{source_idx}_Y_train.csv\")[train_source_X.Season==winter_idx].values.reshape(-1)\n",
    "target_y_task = pd.read_csv(f\"./deep_occupancy_detection/data/{target_idx}_Y_train.csv\")[target_X.Season==summer_idx].values.reshape(-1)\n",
    "train_source_X = train_source_X[train_source_X.Season==winter_idx]\n",
    "target_X = target_X[target_X.Season==summer_idx]"
   ]
  },
  {
   "cell_type": "code",
   "execution_count": 104,
   "metadata": {},
   "outputs": [
    {
     "data": {
      "text/html": [
       "<div>\n",
       "<style scoped>\n",
       "    .dataframe tbody tr th:only-of-type {\n",
       "        vertical-align: middle;\n",
       "    }\n",
       "\n",
       "    .dataframe tbody tr th {\n",
       "        vertical-align: top;\n",
       "    }\n",
       "\n",
       "    .dataframe thead th {\n",
       "        text-align: right;\n",
       "    }\n",
       "</style>\n",
       "<table border=\"1\" class=\"dataframe\">\n",
       "  <thead>\n",
       "    <tr style=\"text-align: right;\">\n",
       "      <th></th>\n",
       "      <th>Energy</th>\n",
       "      <th>Season</th>\n",
       "      <th>Time</th>\n",
       "    </tr>\n",
       "  </thead>\n",
       "  <tbody>\n",
       "    <tr>\n",
       "      <th>2176</th>\n",
       "      <td>168649.947</td>\n",
       "      <td>0</td>\n",
       "      <td>12</td>\n",
       "    </tr>\n",
       "    <tr>\n",
       "      <th>2177</th>\n",
       "      <td>169192.356</td>\n",
       "      <td>0</td>\n",
       "      <td>13</td>\n",
       "    </tr>\n",
       "    <tr>\n",
       "      <th>2178</th>\n",
       "      <td>168560.052</td>\n",
       "      <td>0</td>\n",
       "      <td>14</td>\n",
       "    </tr>\n",
       "    <tr>\n",
       "      <th>2179</th>\n",
       "      <td>130375.163</td>\n",
       "      <td>0</td>\n",
       "      <td>15</td>\n",
       "    </tr>\n",
       "    <tr>\n",
       "      <th>2180</th>\n",
       "      <td>132788.967</td>\n",
       "      <td>0</td>\n",
       "      <td>16</td>\n",
       "    </tr>\n",
       "    <tr>\n",
       "      <th>...</th>\n",
       "      <td>...</td>\n",
       "      <td>...</td>\n",
       "      <td>...</td>\n",
       "    </tr>\n",
       "    <tr>\n",
       "      <th>3131</th>\n",
       "      <td>996765.945</td>\n",
       "      <td>0</td>\n",
       "      <td>39</td>\n",
       "    </tr>\n",
       "    <tr>\n",
       "      <th>3132</th>\n",
       "      <td>1305499.967</td>\n",
       "      <td>0</td>\n",
       "      <td>40</td>\n",
       "    </tr>\n",
       "    <tr>\n",
       "      <th>3133</th>\n",
       "      <td>886801.848</td>\n",
       "      <td>0</td>\n",
       "      <td>41</td>\n",
       "    </tr>\n",
       "    <tr>\n",
       "      <th>3134</th>\n",
       "      <td>991335.091</td>\n",
       "      <td>0</td>\n",
       "      <td>42</td>\n",
       "    </tr>\n",
       "    <tr>\n",
       "      <th>3135</th>\n",
       "      <td>660363.485</td>\n",
       "      <td>0</td>\n",
       "      <td>43</td>\n",
       "    </tr>\n",
       "  </tbody>\n",
       "</table>\n",
       "<p>960 rows × 3 columns</p>\n",
       "</div>"
      ],
      "text/plain": [
       "           Energy  Season  Time\n",
       "2176   168649.947       0    12\n",
       "2177   169192.356       0    13\n",
       "2178   168560.052       0    14\n",
       "2179   130375.163       0    15\n",
       "2180   132788.967       0    16\n",
       "...           ...     ...   ...\n",
       "3131   996765.945       0    39\n",
       "3132  1305499.967       0    40\n",
       "3133   886801.848       0    41\n",
       "3134   991335.091       0    42\n",
       "3135   660363.485       0    43\n",
       "\n",
       "[960 rows x 3 columns]"
      ]
     },
     "execution_count": 104,
     "metadata": {},
     "output_type": "execute_result"
    }
   ],
   "source": [
    "train_source_X"
   ]
  },
  {
   "cell_type": "code",
   "execution_count": 105,
   "metadata": {},
   "outputs": [
    {
     "data": {
      "text/html": [
       "<div>\n",
       "<style scoped>\n",
       "    .dataframe tbody tr th:only-of-type {\n",
       "        vertical-align: middle;\n",
       "    }\n",
       "\n",
       "    .dataframe tbody tr th {\n",
       "        vertical-align: top;\n",
       "    }\n",
       "\n",
       "    .dataframe thead th {\n",
       "        text-align: right;\n",
       "    }\n",
       "</style>\n",
       "<table border=\"1\" class=\"dataframe\">\n",
       "  <thead>\n",
       "    <tr style=\"text-align: right;\">\n",
       "      <th></th>\n",
       "      <th>Energy</th>\n",
       "      <th>Season</th>\n",
       "      <th>Time</th>\n",
       "    </tr>\n",
       "  </thead>\n",
       "  <tbody>\n",
       "    <tr>\n",
       "      <th>0</th>\n",
       "      <td>380827.893</td>\n",
       "      <td>1</td>\n",
       "      <td>12</td>\n",
       "    </tr>\n",
       "    <tr>\n",
       "      <th>1</th>\n",
       "      <td>194841.812</td>\n",
       "      <td>1</td>\n",
       "      <td>13</td>\n",
       "    </tr>\n",
       "    <tr>\n",
       "      <th>2</th>\n",
       "      <td>122493.428</td>\n",
       "      <td>1</td>\n",
       "      <td>14</td>\n",
       "    </tr>\n",
       "    <tr>\n",
       "      <th>3</th>\n",
       "      <td>155853.417</td>\n",
       "      <td>1</td>\n",
       "      <td>15</td>\n",
       "    </tr>\n",
       "    <tr>\n",
       "      <th>4</th>\n",
       "      <td>158295.543</td>\n",
       "      <td>1</td>\n",
       "      <td>16</td>\n",
       "    </tr>\n",
       "    <tr>\n",
       "      <th>...</th>\n",
       "      <td>...</td>\n",
       "      <td>...</td>\n",
       "      <td>...</td>\n",
       "    </tr>\n",
       "    <tr>\n",
       "      <th>2171</th>\n",
       "      <td>200783.630</td>\n",
       "      <td>1</td>\n",
       "      <td>39</td>\n",
       "    </tr>\n",
       "    <tr>\n",
       "      <th>2172</th>\n",
       "      <td>197410.112</td>\n",
       "      <td>1</td>\n",
       "      <td>40</td>\n",
       "    </tr>\n",
       "    <tr>\n",
       "      <th>2173</th>\n",
       "      <td>195676.564</td>\n",
       "      <td>1</td>\n",
       "      <td>41</td>\n",
       "    </tr>\n",
       "    <tr>\n",
       "      <th>2174</th>\n",
       "      <td>195884.090</td>\n",
       "      <td>1</td>\n",
       "      <td>42</td>\n",
       "    </tr>\n",
       "    <tr>\n",
       "      <th>2175</th>\n",
       "      <td>192848.573</td>\n",
       "      <td>1</td>\n",
       "      <td>43</td>\n",
       "    </tr>\n",
       "  </tbody>\n",
       "</table>\n",
       "<p>2176 rows × 3 columns</p>\n",
       "</div>"
      ],
      "text/plain": [
       "          Energy  Season  Time\n",
       "0     380827.893       1    12\n",
       "1     194841.812       1    13\n",
       "2     122493.428       1    14\n",
       "3     155853.417       1    15\n",
       "4     158295.543       1    16\n",
       "...          ...     ...   ...\n",
       "2171  200783.630       1    39\n",
       "2172  197410.112       1    40\n",
       "2173  195676.564       1    41\n",
       "2174  195884.090       1    42\n",
       "2175  192848.573       1    43\n",
       "\n",
       "[2176 rows x 3 columns]"
      ]
     },
     "execution_count": 105,
     "metadata": {},
     "output_type": "execute_result"
    }
   ],
   "source": [
    "target_X"
   ]
  },
  {
   "cell_type": "code",
   "execution_count": 106,
   "metadata": {},
   "outputs": [],
   "source": [
    "scaler = preprocessing.StandardScaler()\n",
    "train_source_X = scaler.fit_transform(train_source_X)\n",
    "target_X = scaler.fit_transform(target_X)\n",
    "\n",
    "train_source_X, train_source_y_task = utils.apply_sliding_window(train_source_X, train_source_y_task, filter_len=6)\n",
    "target_X, target_y_task = utils.apply_sliding_window(target_X, target_y_task, filter_len=6)"
   ]
  },
  {
   "cell_type": "code",
   "execution_count": 107,
   "metadata": {},
   "outputs": [],
   "source": [
    "source_loader, _, _, _, target_X, target_y_task = utils.get_loader(train_source_X, target_X, train_source_y_task, target_y_task, shuffle=True)"
   ]
  },
  {
   "cell_type": "code",
   "execution_count": 108,
   "metadata": {},
   "outputs": [],
   "source": [
    "test_thr = int(target_X.shape[0]/2)\n",
    "test_target_X = target_X[test_thr:]\n",
    "test_target_y_task = target_y_task[test_thr:]"
   ]
  },
  {
   "attachments": {},
   "cell_type": "markdown",
   "metadata": {},
   "source": [
    "# 1. p(Y|X) Divergence\n",
    "## 1.1 Model Fit\n"
   ]
  },
  {
   "cell_type": "code",
   "execution_count": 109,
   "metadata": {},
   "outputs": [],
   "source": [
    "feature_extractor = utils.Conv1d(input_size=train_source_X.shape[2]).to(DEVICE)\n",
    "task_classifier = utils.Decoder(input_size=128, output_size=1).to(DEVICE)\n",
    "criterion = torch.nn.BCELoss()\n",
    "\n",
    "feature_optimizer = optim.Adam(feature_extractor.parameters(), lr=0.0001)\n",
    "task_optimizer = optim.Adam(task_classifier.parameters(), lr=0.0001)"
   ]
  },
  {
   "cell_type": "code",
   "execution_count": 110,
   "metadata": {},
   "outputs": [
    {
     "name": "stdout",
     "output_type": "stream",
     "text": [
      "Loss: 0.6239587068557739\n"
     ]
    },
    {
     "name": "stdout",
     "output_type": "stream",
     "text": [
      "Loss: 0.17412421107292175\n",
      "Loss: 1.832610011100769\n",
      "Loss: 0.6329265236854553\n",
      "Loss: 1.1220811605453491\n",
      "Loss: 0.7572677135467529\n"
     ]
    }
   ],
   "source": [
    "for epoch in range(300):\n",
    "    for source_data in source_loader:\n",
    "        source_X, source_y = source_data\n",
    "        source_y_task = source_y[:, 0]\n",
    "\n",
    "        source_feature = feature_extractor(source_X)\n",
    "        source_output = task_classifier(source_feature)\n",
    "        source_output = torch.sigmoid(source_output).reshape(-1)\n",
    "\n",
    "        loss = criterion(source_output, source_y_task)\n",
    "\n",
    "        feature_optimizer.zero_grad()\n",
    "        task_optimizer.zero_grad()\n",
    "        loss.backward()\n",
    "        feature_optimizer.step()\n",
    "        task_optimizer.step()\n",
    "    if epoch % 50 == 0:\n",
    "        print(f\"Loss: {loss.item()}\")"
   ]
  },
  {
   "attachments": {},
   "cell_type": "markdown",
   "metadata": {},
   "source": [
    "## 1.2 Calc Accuracy for Target"
   ]
  },
  {
   "cell_type": "code",
   "execution_count": 111,
   "metadata": {},
   "outputs": [
    {
     "name": "stdout",
     "output_type": "stream",
     "text": [
      "Accuracy for Target: 0.8843850493431091\n"
     ]
    }
   ],
   "source": [
    "pred_y = task_classifier(feature_extractor(target_X))\n",
    "pred_y = torch.sigmoid(pred_y).reshape(-1)\n",
    "pred_y = pred_y > 0.5\n",
    "acc = sum(pred_y == target_y_task) / pred_y.shape[0]\n",
    "print(f\"Accuracy for Target: {acc}\")"
   ]
  }
 ],
 "metadata": {
  "kernelspec": {
   "display_name": "base",
   "language": "python",
   "name": "python3"
  },
  "language_info": {
   "codemirror_mode": {
    "name": "ipython",
    "version": 3
   },
   "file_extension": ".py",
   "mimetype": "text/x-python",
   "name": "python",
   "nbconvert_exporter": "python",
   "pygments_lexer": "ipython3",
   "version": "3.8.8"
  },
  "orig_nbformat": 4
 },
 "nbformat": 4,
 "nbformat_minor": 2
}
